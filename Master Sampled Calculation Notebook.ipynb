{
 "cells": [
  {
   "cell_type": "code",
   "execution_count": 3,
   "metadata": {},
   "outputs": [],
   "source": [
    "import matplotlib.pyplot as plt\n",
    "import scipy.constants as cons\n",
    "import pandas as pd\n",
    "import numpy as np\n",
    "import scipy\n",
    "import cmath\n",
    "import time\n",
    "import os\n",
    "\n",
    "from mpl_toolkits.mplot3d import Axes3D\n",
    "from matplotlib import cm\n",
    "from qutip import *\n",
    "\n",
    "# Column Heads for data output\n",
    "columns=['Wigint', 'WLN', 'SqzFactor', 'DisFactor', 'Xrange', 'Xstep', 'Yrange', 'Ystep', 'N']"
   ]
  },
  {
   "cell_type": "code",
   "execution_count": 112,
   "metadata": {},
   "outputs": [],
   "source": [
    "def myplotwigner(psi, xrange = [0,3], yrange = [-20,20], step = 0.1, title = 'Wigner Function'):\n",
    "    \"\"\"\n",
    "    Function for plotting the Wiger function of a state which gives more control\n",
    "    over the appearance of the graph than the built in qutip plot_wigner function\n",
    "    \"\"\"\n",
    "    # Generate X and Y values from inputs\n",
    "    xvec = np.arange(xrange[0], xrange[1], step)\n",
    "    yvec = np.arange(yrange[0], yrange[1], step)\n",
    "    X,Y = np.meshgrid(xvec, yvec)\n",
    "    \n",
    "    # Calculate Wigner function at specified coordinates\n",
    "    W = wigner(psi, xvec, yvec)\n",
    "    \n",
    "    # Create Figure and Axes for the plot\n",
    "    fig = plt.figure(figsize=(8,6))\n",
    "    ax = Axes3D(fig) \n",
    "    \n",
    "    # plot surface\n",
    "    ax.plot_surface(X, Y, W, rcount= 50, ccount= 50, cmap=cm.jet, alpha=.8)\n",
    "    \n",
    "    # Overlay contours onto plot\n",
    "    ax.contour(X, Y, W, 15, zdir='x', offset=xrange[1])\n",
    "    ax.contour(X, Y, W, 15, zdir='y', offset=yrange[1])\n",
    "    ax.contour(X, Y, W, 15,zdir='z', offset=0)\n",
    "    \n",
    "    # Label Axes appropriately\n",
    "    ax.set_xlabel(r'$\\rm{Re}(\\alpha)$')\n",
    "    ax.set_ylabel(r'$\\rm{Im}(\\alpha)$')\n",
    "    ax.set_zlabel(r'$W(\\alpha)$')\n",
    "    \n",
    "    # Add title\n",
    "    plt.title(title)\n",
    "    return fig, ax\n",
    "\n",
    "\n",
    "def simps2d(Xvec, Yvec, Z):\n",
    "    \"\"\"\n",
    "    Function to return value of the 2d simpson integration over a sample of values\n",
    "    :Xvec: first axis of values at which function is evaluated\n",
    "    :Yvec: second axis of values at which function is evaluated\n",
    "    :Z: Function values, first indice being X and second Y\n",
    "    \"\"\"\n",
    "    return scipy.integrate.simps(scipy.integrate.simps(Z, Xvec), Yvec)\n",
    "\n",
    "\n",
    "def catstate(alpha, phi, theta, N):\n",
    "    coh1 = np.cos(phi) * coherent(N, alpha)\n",
    "    coh2 = np.sin(phi) * cmath.rect(1,theta) * coherent(N, -alpha)\n",
    "    K = 1 + np.sin(2 * phi) * np.cos(theta) * np.exp(-2 * alpha * np.conj(alpha))\n",
    "    norm = 1/np.sqrt(K)\n",
    "    return norm * (coh1 + coh2)\n",
    "\n",
    "\n",
    "def cubicstate(gamma, squeezing, N):\n",
    "    x = position(N)\n",
    "    \n",
    "    expon = (1j * gamma * (x ** 3)).expm()\n",
    "    sque = squeeze(N,squeezing)\n",
    "\n",
    "    cubic = (expon * sque * basis(N,0).unit()).unit()\n",
    "    return cubic\n"
   ]
  },
  {
   "cell_type": "code",
   "execution_count": 132,
   "metadata": {},
   "outputs": [],
   "source": [
    "# Name datafile for output and if not existing create and add column headings\n",
    "datafile = 'mastersimp.csv'\n",
    "if not os.path.isfile(datafile):\n",
    "    dfinit = pd.DataFrame(columns=columns)\n",
    "    with open(datafile, 'a') as f:\n",
    "        dfinit.to_csv(f)"
   ]
  },
  {
   "cell_type": "code",
   "execution_count": null,
   "metadata": {},
   "outputs": [],
   "source": [
    "# Initializing / clearing Lists to store data to be input to pandas dataframe and exported to csv, \n",
    "# d prefix to symbolize they are used for data storage\n",
    "written = False\n",
    "dwig = []\n",
    "dWLN = []\n",
    "dsqzf = []\n",
    "ddisf = []\n",
    "dnumlev = []\n",
    "dxrange = []\n",
    "dxstep = []\n",
    "dyrange =  []\n",
    "dystep = []"
   ]
  },
  {
   "cell_type": "code",
   "execution_count": 64,
   "metadata": {},
   "outputs": [],
   "source": [
    "# Generate states needed to perform calculations later and also initialize variables (states need to be regenerated\n",
    "# if the variables preceding them are altered)\n",
    "\n",
    "N=250 # Number of Fock 'levels' to use in approximation\n",
    "\n",
    "vac = basis(N, 0) # Vacuum\n",
    "coh = coherent(N, 1) # Coherent state\n",
    "fockone = basis(N,1) # First Fock state\n",
    "\n",
    "sqf=1 # Squeezing Factor\n",
    "dif=1 # Displacement Factor\n",
    "\n",
    "# Normalization factor\n",
    "Nadd = 1 + np.sinh(sqf) ** 2 + np.abs(dif) ** 2\n",
    "Nsub = np.sinh(sqf) ** 2 + np.abs(dif) ** 2\n",
    "\n",
    "psiadd = (1/np.sqrt(Nadd)) * create(N) * displace(N,dif) * squeeze(N, sqf) * basis(N, 0) \n",
    "rhoadd = ket2dm(psiadd)\n",
    "\n",
    "psisub = (1/np.sqrt(Nsub)) *  destroy(N) * displace(N,dif) * squeeze(N, sqf) * basis(N, 0) \n",
    "rhosub = ket2dm(psisub)\n",
    "\n",
    "psi =  displace(N,1) * squeeze(N, 0.5) * basis(N, 0) "
   ]
  },
  {
   "cell_type": "code",
   "execution_count": null,
   "metadata": {},
   "outputs": [],
   "source": [
    "# Generate and Store a plot for the wigner function given the following ranges to determine efficient limits for \n",
    "# simpson integration\n",
    "xrange = [0.75, 2]\n",
    "yrange = [-25, 25]\n",
    "fig, ax = myplotwigner(psi, xrange, yrange)"
   ]
  },
  {
   "cell_type": "code",
   "execution_count": null,
   "metadata": {},
   "outputs": [],
   "source": [
    "# Show plot again, nb. not sure how to make this interactive\n",
    "%matplotlib inline\n",
    "# Set View Angle\n",
    "ax.view_init(30, -110)\n",
    "display(fig)"
   ]
  },
  {
   "cell_type": "code",
   "execution_count": 114,
   "metadata": {},
   "outputs": [],
   "source": [
    "xstep = 1/100\n",
    "ystep = 5/100\n",
    "\n",
    "starttime = time.time()\n",
    "\n",
    "xvec = np.arange(xrange[0], xrange[1], xstep)\n",
    "yvec = np.arange(yrange[0], yrange[1], ystep)\n",
    "W = wigner(psi, xvec, yvec)\n",
    "\n",
    "endtime = time.time()\n",
    "\n",
    "# Time taken to calculate the wigner function for the set of x and y coordinates\n",
    "time = endtime - starttime"
   ]
  },
  {
   "cell_type": "code",
   "execution_count": 34,
   "metadata": {},
   "outputs": [
    {
     "name": "stdout",
     "output_type": "stream",
     "text": [
      "0.9979677914308335\n"
     ]
    }
   ],
   "source": [
    "# Calculates the integral over the Wigner function for the ranges specified above, serves as a check to see if \n",
    "# we are approximating the integration accurately enough as should be normalised to 1.\n",
    "wigtemp = simps2d(xvec, yvec, W)\n",
    "\n",
    "# Calculates the integral of the absolute value of the Wigner funtion and then takes the log (base 2) to determine\n",
    "# the Wigner Logarithmic Negativity (in base 2) for the function. This serves as a monotone/quantifier for the\n",
    "# quantum non-Gaussianity of the state.\n",
    "WLNtemp = np.log2(simps2d(xvec, yvec, abs(W)))\n",
    "print(\"Integral over the Wigner function = {}\".format(wigtemp), \"WLN = {}\".format(WLNtemp))\n",
    "\n",
    "\"\"\"\n",
    "# Uncomment and then comment block below if want to look over results before appending\n",
    "if written is True:\n",
    "        print('Already written to file this session, try reseting data lists first to prevent writing same data  twice')\n",
    "elif written is False:\n",
    "    while True:\n",
    "        query = input('accept results? If first value unreasonably less than 1 reject.')\n",
    "         Fl = query.lower()\n",
    "         if query == '' or not Fl in ['y','n','yes','no']:\n",
    "            print('Please answer with yes or no!')\n",
    "         else:\n",
    "            break\n",
    "            \n",
    "    if Fl in ['yes', 'y']:  \n",
    "        # Appending Values to Corresponding lists\n",
    "        dsqzf.append(sqf)\n",
    "        ddisf.append(dif)\n",
    "        dnumlev.append(N)\n",
    "        dxrange.append(xrange)\n",
    "        dxstep.append(xstep)\n",
    "        dyrange.append(yrange)\n",
    "        dystep.append(ystep)\n",
    "        dwig.append(wigtemp)\n",
    "        dWLN.append(WLNtemp)\n",
    "        dtime.append(time)\n",
    "\n",
    "        print('Data appended')\n",
    "\n",
    "    elif Fl in ['no', 'n']:\n",
    "        print('Results not appended')\n",
    "\"\"\"\n",
    "\n",
    "if written is True:\n",
    "    print('Already written to file this session, try reseting data lists first to prevent writing same data  twice')\n",
    "\n",
    "elif written is False:\n",
    "    # Appending Values to Corresponding lists\n",
    "    dsqzf.append(sqf)\n",
    "    ddisf.append(dif)\n",
    "    dnumlev.append(N)\n",
    "    dxrange.append(xrange)\n",
    "    dxstep.append(xstep)\n",
    "    dyrange.append(yrange)\n",
    "    dystep.append(ystep)\n",
    "    dwig.append(wigtemp)\n",
    "    dWLN.append(WLNtemp)\n",
    "    dtime.append(time)\n",
    "    \n",
    "    print('Data appended')"
   ]
  },
  {
   "cell_type": "code",
   "execution_count": null,
   "metadata": {},
   "outputs": [],
   "source": [
    "data = list(zip(dwig, dWLN, dsqzf, ddisf, dxrange, dxstep, dyrange, dystep ,dnumlev, dtime))\n",
    "\n",
    "df = pd.DataFrame(data, columns=columns)"
   ]
  },
  {
   "cell_type": "code",
   "execution_count": 1,
   "metadata": {},
   "outputs": [
    {
     "ename": "NameError",
     "evalue": "name 'df' is not defined",
     "output_type": "error",
     "traceback": [
      "\u001b[0;31m---------------------------------------------------------------------------\u001b[0m",
      "\u001b[0;31mNameError\u001b[0m                                 Traceback (most recent call last)",
      "\u001b[0;32m<ipython-input-1-00cf07b74dcd>\u001b[0m in \u001b[0;36m<module>\u001b[0;34m()\u001b[0m\n\u001b[0;32m----> 1\u001b[0;31m \u001b[0mdf\u001b[0m\u001b[0;34m\u001b[0m\u001b[0;34m\u001b[0m\u001b[0m\n\u001b[0m",
      "\u001b[0;31mNameError\u001b[0m: name 'df' is not defined"
     ]
    }
   ],
   "source": [
    "df"
   ]
  },
  {
   "cell_type": "code",
   "execution_count": null,
   "metadata": {},
   "outputs": [],
   "source": [
    "if written is True:\n",
    "    print('Already written to file this session, try reseting data lists first to prevent writing same data  twice')\n",
    "elif written is False:\n",
    "    with open(datafile, 'a') as f:\n",
    "        df.to_csv(f, header=False)\n",
    "        written = True"
   ]
  }
 ],
 "metadata": {
  "kernelspec": {
   "display_name": "Python 3",
   "language": "python",
   "name": "python3"
  },
  "language_info": {
   "codemirror_mode": {
    "name": "ipython",
    "version": 3
   },
   "file_extension": ".py",
   "mimetype": "text/x-python",
   "name": "python",
   "nbconvert_exporter": "python",
   "pygments_lexer": "ipython3",
   "version": "3.6.7"
  }
 },
 "nbformat": 4,
 "nbformat_minor": 2
}
