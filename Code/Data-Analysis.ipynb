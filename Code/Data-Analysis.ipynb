{
 "cells": [
  {
   "cell_type": "markdown",
   "metadata": {},
   "source": [
    "# Data Analysis Notebook\n",
    "This notebook is used to perform analysis of the data generated from the accompanying python scripts for the Wigner logarithmic negativity and average energy of the states at different generating parameters.\n",
    "It begins with creating 3D plots of the WLN over the 'parameter space' of each state and then creates bins out of the energies and chooses the maximal WLN values from within those bins.\n",
    "It then creates plots from this data and then performs some additional analysis on the accuracy of the approximations of the states as the size of the Hilbert space increases.\n",
    "It finished with some plots of the parameter space and special points."
   ]
  },
  {
   "cell_type": "code",
   "execution_count": null,
   "metadata": {
    "ExecuteTime": {
     "end_time": "2019-05-06T14:06:27.777471Z",
     "start_time": "2019-05-06T14:06:26.974654Z"
    }
   },
   "outputs": [],
   "source": [
    "import matplotlib.pyplot as plt\n",
    "import matplotlib.tri as tri\n",
    "import matplotlib as mpl\n",
    "import scipy.constants as cons\n",
    "import pandas as pd\n",
    "import numpy as np\n",
    "\n",
    "from mpl_toolkits.mplot3d import Axes3D\n",
    "from matplotlib import cm\n",
    "from qutip import *\n",
    "from funcs import *\n",
    "from scipy.optimize import curve_fit\n",
    "\n",
    "def straightline(x, A, B):\n",
    "    return A * x + B"
   ]
  },
  {
   "cell_type": "code",
   "execution_count": null,
   "metadata": {
    "ExecuteTime": {
     "end_time": "2019-05-06T14:06:27.786801Z",
     "start_time": "2019-05-06T14:06:27.779228Z"
    }
   },
   "outputs": [],
   "source": [
    "%matplotlib inline\n",
    "\n",
    "mpl.rcParams.update({'font.size': 18})\n",
    "mpl.rcParams.update({'font.family': 'sans-serif'})\n",
    "mpl.rcParams['axes.labelpad'] = 16"
   ]
  },
  {
   "cell_type": "code",
   "execution_count": null,
   "metadata": {
    "ExecuteTime": {
     "end_time": "2019-05-06T14:06:27.965967Z",
     "start_time": "2019-05-06T14:06:27.788683Z"
    }
   },
   "outputs": [],
   "source": [
    "# Reading in data from file\n",
    "# Numerical Cubic phase state data\n",
    "cubicdf = pd.concat([pd.read_csv('data/cubic_good3.csv'),\n",
    "                     pd.read_csv('data/cubic_good2.csv')], ignore_index=True)\n",
    "cubicdf = cubicdf[cubicdf.nmean < 6.0].sort_values('nmean')\n",
    "\n",
    "# analytic Cubic phase state data\n",
    "anacubicdf = pd.concat([pd.read_csv('data/cubicanalytic_good3.csv'),\n",
    "                        pd.read_csv('data/cubicanalytic_firstnewlimits.csv'),\n",
    "                        pd.read_csv('data/cubicanalytic_2x2.csv')], ignore_index=True)\n",
    "anacubicdf = anacubicdf[anacubicdf.nmean < 6.0].sort_values('nmean')\n",
    "\n",
    "# Triple photon state data (inn is used as I previously called it the 'inner cubic' state, not updated as\n",
    "# would need to ensure correctly replaced throughout and wont appear in final report anyway)\n",
    "inncubicdf = pd.concat([pd.read_csv('data/inner_cubic_highdensity.csv'),\n",
    "                        pd.read_csv('data/inner_cubic_nmeanregion.csv'),\n",
    "                        pd.read_csv('data/inner_cubic.csv')], ignore_index=True)\n",
    "inncubicdf = inncubicdf[inncubicdf.nmean < 6.0].sort_values('nmean')"
   ]
  },
  {
   "cell_type": "markdown",
   "metadata": {},
   "source": [
    "## Numerical Cubic Parameter Plots"
   ]
  },
  {
   "cell_type": "code",
   "execution_count": null,
   "metadata": {
    "ExecuteTime": {
     "end_time": "2019-05-06T14:06:28.012598Z",
     "start_time": "2019-05-06T14:06:27.968170Z"
    }
   },
   "outputs": [],
   "source": [
    "X = cubicdf.gamma\n",
    "Y = cubicdf.r\n",
    "Z = cubicdf.nmean\n",
    "\n",
    "# Create triangluation objects to create triangulated surfaces and contours\n",
    "test = tri.Triangulation(X, Y)\n",
    "\n",
    "# Mask to make the triangles not try to jump too far (large gaps in the surface)\n",
    "masktest = tri.TriAnalyzer(test).get_flat_tri_mask(\n",
    "    min_circle_ratio=0.025, rescale=True)\n",
    "\n",
    "test.set_mask(masktest)"
   ]
  },
  {
   "cell_type": "code",
   "execution_count": null,
   "metadata": {
    "ExecuteTime": {
     "end_time": "2019-05-06T14:06:30.898658Z",
     "start_time": "2019-05-06T14:06:28.014300Z"
    }
   },
   "outputs": [],
   "source": [
    "fig = plt.figure(figsize=(12, 8))\n",
    "ax = Axes3D(fig)\n",
    "\n",
    "Z2num = cubicdf.WLN\n",
    "\n",
    "surf1num = ax.plot_trisurf(test, Z2num, alpha=0.6, cmap='viridis')\n",
    "\n",
    "# Label Axes appropriately\n",
    "ax.set_xlabel(r'Cubicity - $\\gamma$')\n",
    "ax.set_ylabel(r'Squeezing - $r$')\n",
    "ax.set_zlabel(r'WLN')\n",
    "\n",
    "# Remove background grid\n",
    "# ax.grid(False)\n",
    "\n",
    "# Remove background fill\n",
    "ax.xaxis.pane.fill = False\n",
    "ax.yaxis.pane.fill = False\n",
    "ax.zaxis.pane.fill = False\n",
    "\n",
    "# Make pane around each axes black, adds a border to plot\n",
    "# ax.xaxis.pane.set_edgecolor('black')\n",
    "# ax.yaxis.pane.set_edgecolor('black')\n",
    "# ax.zaxis.pane.set_edgecolor('black')\n",
    "\n",
    "# Sets the pane borders to be closed squares, by default only 3 sides\n",
    "ax.xaxis.pane.set_closed(True)\n",
    "ax.yaxis.pane.set_closed(True)\n",
    "ax.zaxis.pane.set_closed(True)\n",
    "\n",
    "\n",
    "#ax.contour(X, Y, Z, 10, zdir='x', offset=x0)\n",
    "#ax.contour(X, Y, Z, 10, zdir='y', offset=y0)\n",
    "contsnum = ax.tricontour(test, Z, zdir='z', offset=0, levels=14, cmap='cool')\n",
    "ax.set_zlim(0, 1.3)\n",
    "ax.view_init(50, 225)\n",
    "\n",
    "# fig.colorbar(surf1num, shrink=0.5)\n",
    "fig.savefig('fig/numcubic-parametersurf.pdf', format='pdf')\n",
    "\n",
    "plt.show()"
   ]
  },
  {
   "cell_type": "markdown",
   "metadata": {},
   "source": [
    "## Analytic Cubic parameter Plots"
   ]
  },
  {
   "cell_type": "code",
   "execution_count": null,
   "metadata": {
    "ExecuteTime": {
     "end_time": "2019-05-06T14:06:31.024126Z",
     "start_time": "2019-05-06T14:06:30.901056Z"
    }
   },
   "outputs": [],
   "source": [
    "Xana = anacubicdf.gamma\n",
    "Yana = anacubicdf.r\n",
    "Zana = anacubicdf.nmean\n",
    "\n",
    "# Create triangluation objects to create triangulated surfaces and contours\n",
    "testana = tri.Triangulation(Xana, Yana)\n",
    "\n",
    "masktestana = tri.TriAnalyzer(testana).get_flat_tri_mask(\n",
    "    min_circle_ratio=0.04, rescale=True)\n",
    "\n",
    "testana.set_mask(masktestana)"
   ]
  },
  {
   "cell_type": "code",
   "execution_count": null,
   "metadata": {
    "ExecuteTime": {
     "end_time": "2019-05-06T14:06:37.322003Z",
     "start_time": "2019-05-06T14:06:31.026669Z"
    }
   },
   "outputs": [],
   "source": [
    "fig = plt.figure(figsize=(12, 8))\n",
    "ax = Axes3D(fig)\n",
    "\n",
    "Z2ana = anacubicdf.WLN\n",
    "\n",
    "surf1ana = ax.plot_trisurf(testana, Z2ana, alpha=0.6, cmap='viridis')\n",
    "\n",
    "# Label Axes appropriately\n",
    "ax.set_xlabel(r'Cubicity - $\\gamma$')\n",
    "ax.set_ylabel(r'Squeezing - $r$')\n",
    "ax.set_zlabel(r'WLN')\n",
    "\n",
    "# Remove background grid\n",
    "# ax.grid(False)\n",
    "\n",
    "# Remove background fill\n",
    "ax.xaxis.pane.fill = False\n",
    "ax.yaxis.pane.fill = False\n",
    "ax.zaxis.pane.fill = False\n",
    "\n",
    "# Make pane around each axes black, adds a border to plot\n",
    "# ax.xaxis.pane.set_edgecolor('black')\n",
    "# ax.yaxis.pane.set_edgecolor('black')\n",
    "# ax.zaxis.pane.set_edgecolor('black')\n",
    "\n",
    "# Sets the pane borders to be closed squares, by default only 3 sides\n",
    "ax.xaxis.pane.set_closed(True)\n",
    "ax.yaxis.pane.set_closed(True)\n",
    "ax.zaxis.pane.set_closed(True)\n",
    "\n",
    "\n",
    "#ax.contour(X, Y, Z, 10, zdir='x', offset=x0)\n",
    "#ax.contour(X, Y, Z, 10, zdir='y', offset=y0)\n",
    "contsana = ax.tricontour(testana, Zana, zdir='z',\n",
    "                         offset=0, levels=15, cmap='cool')\n",
    "ax.set_zlim(0, np.ceil(anacubicdf.WLN.max()))\n",
    "ax.view_init(50, 225)\n",
    "\n",
    "# fig.colorbar(surf1ana, shrink=0.5)\n",
    "fig.savefig('fig/anacubic-parametersurf.pdf', format='pdf')\n",
    "\n",
    "plt.show()"
   ]
  },
  {
   "cell_type": "markdown",
   "metadata": {},
   "source": [
    "## Triple Photon State Parameter Plots"
   ]
  },
  {
   "cell_type": "code",
   "execution_count": null,
   "metadata": {
    "ExecuteTime": {
     "end_time": "2019-05-06T14:06:37.429141Z",
     "start_time": "2019-05-06T14:06:37.325563Z"
    }
   },
   "outputs": [],
   "source": [
    "Xinn = inncubicdf.gamma\n",
    "Yinn = inncubicdf.r\n",
    "Zinn = inncubicdf.nmean\n",
    "\n",
    "# Create triangluation objects to create triangulated surfaces and contours\n",
    "testinn = tri.Triangulation(Xinn, Yinn)\n",
    "\n",
    "# Mask to make the triangles not try to jump too far (large gaps in the surface)\n",
    "masktestinn = tri.TriAnalyzer(testinn).get_flat_tri_mask(\n",
    "    min_circle_ratio=0.04, rescale=True)\n",
    "\n",
    "testinn.set_mask(masktestinn)"
   ]
  },
  {
   "cell_type": "code",
   "execution_count": null,
   "metadata": {
    "ExecuteTime": {
     "end_time": "2019-05-06T14:06:42.513246Z",
     "start_time": "2019-05-06T14:06:37.430586Z"
    }
   },
   "outputs": [],
   "source": [
    "fig = plt.figure(figsize=(12, 8))\n",
    "ax = Axes3D(fig)\n",
    "\n",
    "Z2inn = inncubicdf.WLN\n",
    "\n",
    "surf1inn = ax.plot_trisurf(testinn, Z2inn, alpha=0.6, cmap='viridis')\n",
    "\n",
    "# Label Axes appropriately\n",
    "ax.set_xlabel(r'Triplicity - $\\mu$')\n",
    "ax.set_ylabel(r'Squeezing - $r$')\n",
    "ax.set_zlabel(r'WLN')\n",
    "\n",
    "# Remove background grid\n",
    "# ax.grid(False)\n",
    "\n",
    "# Remove background fill\n",
    "ax.xaxis.pane.fill = False\n",
    "ax.yaxis.pane.fill = False\n",
    "ax.zaxis.pane.fill = False\n",
    "\n",
    "# Make pane around each axes black, adds a border to plot\n",
    "# ax.xaxis.pane.set_edgecolor('black')\n",
    "# ax.yaxis.pane.set_edgecolor('black')\n",
    "# ax.zaxis.pane.set_edgecolor('black')\n",
    "\n",
    "# Sets the pane borders to be closed squares, by default only 3 sides\n",
    "ax.xaxis.pane.set_closed(True)\n",
    "ax.yaxis.pane.set_closed(True)\n",
    "ax.zaxis.pane.set_closed(True)\n",
    "\n",
    "\n",
    "#ax.contour(X, Y, Z, 10, zdir='x', offset=x0)\n",
    "#ax.contour(X, Y, Z, 10, zdir='y', offset=y0)\n",
    "contsinn = ax.tricontour(testinn, Zinn, zdir='z',\n",
    "                         offset=0, levels=15, cmap='cool')\n",
    "ax.set_zlim(0, 1.6)\n",
    "ax.view_init(50, 225)\n",
    "\n",
    "# fig.colorbar(surf1inn, shrink=0.5)\n",
    "fig.savefig('fig/tripphoton-parametersurf.pdf', format='pdf')\n",
    "\n",
    "plt.show()"
   ]
  },
  {
   "cell_type": "markdown",
   "metadata": {},
   "source": [
    "## Binning nmean data to find maximal WLN generating parameters"
   ]
  },
  {
   "cell_type": "code",
   "execution_count": null,
   "metadata": {
    "ExecuteTime": {
     "end_time": "2019-05-06T14:06:42.564229Z",
     "start_time": "2019-05-06T14:06:42.515139Z"
    }
   },
   "outputs": [],
   "source": [
    "# Creating bins for nmean data\n",
    "bins1 = np.linspace(cubicdf.nmean.min(), cubicdf.nmean.max(), 61)\n",
    "bins2 = np.linspace(inncubicdf.nmean.min(), inncubicdf.nmean.max(), 61)\n",
    "bins3 = np.linspace(anacubicdf.nmean.min(), anacubicdf.nmean.max(), 61)\n",
    "\n",
    "cubicdf['nmeanbins'] = pd.cut(cubicdf.nmean, bins1, include_lowest=True)\n",
    "inncubicdf['nmeanbins'] = pd.cut(inncubicdf.nmean, bins2, include_lowest=True)\n",
    "anacubicdf['nmeanbins'] = pd.cut(anacubicdf.nmean, bins3, include_lowest=True)"
   ]
  },
  {
   "cell_type": "code",
   "execution_count": null,
   "metadata": {
    "ExecuteTime": {
     "end_time": "2019-05-06T14:06:43.151391Z",
     "start_time": "2019-05-06T14:06:42.566408Z"
    }
   },
   "outputs": [],
   "source": [
    "# Obtain the maximum Mana in each nmean bin\n",
    "maxWLNs1 = []\n",
    "maxWLNs2 = []\n",
    "maxWLNs3 = []\n",
    "\n",
    "for bin in np.unique(cubicdf.nmeanbins):\n",
    "    maxWLNs1.append(cubicdf[cubicdf.nmeanbins == bin].WLN.max())\n",
    "\n",
    "for bin in np.unique(inncubicdf.nmeanbins):\n",
    "    maxWLNs2.append(inncubicdf[inncubicdf.nmeanbins == bin].WLN.max())\n",
    "\n",
    "for bin in np.unique(anacubicdf.nmeanbins):\n",
    "    maxWLNs3.append(anacubicdf[anacubicdf.nmeanbins == bin].WLN.max())\n",
    "\n",
    "# Define new dataframes as those with gamma, r coords corresponding to max Mana in nmeanbins\n",
    "cubicdfmax = cubicdf[cubicdf.WLN.isin(maxWLNs1)]\n",
    "# cubicdfmax = cubicdfmax[cubicdfmax.nmean > 0.15]\n",
    "inncubicdfmax = inncubicdf[inncubicdf.WLN.isin(maxWLNs2)]\n",
    "anacubicdfmax = anacubicdf[anacubicdf.WLN.isin(maxWLNs3)]"
   ]
  },
  {
   "cell_type": "code",
   "execution_count": null,
   "metadata": {
    "ExecuteTime": {
     "end_time": "2019-05-06T14:06:43.709426Z",
     "start_time": "2019-05-06T14:06:43.152985Z"
    }
   },
   "outputs": [],
   "source": [
    "# Generate Mana Data for Fock states to compare\n",
    "fnmeans = []\n",
    "fWLNs = []\n",
    "N = 10\n",
    "for i in range(0, 7):\n",
    "    fockstate = fock(N, i)\n",
    "    fnmeans.append(expect(num(N), fockstate))\n",
    "    fWLNs.append(wln(fockstate, 1e-5)[0])"
   ]
  },
  {
   "cell_type": "code",
   "execution_count": null,
   "metadata": {
    "ExecuteTime": {
     "end_time": "2019-05-06T14:06:43.720088Z",
     "start_time": "2019-05-06T14:06:43.711882Z"
    }
   },
   "outputs": [],
   "source": [
    "# datafile = 'triple_photon_max_data.csv'\n",
    "# with open(datafile, 'a') as f:\n",
    "#             inncubicdfmax.to_csv(f, index=False)\n",
    "\n",
    "# datafile = 'cubic_max_data.csv'\n",
    "# with open(datafile, 'a') as f:\n",
    "#             cubicdfmax.to_csv(f, index=False)"
   ]
  },
  {
   "cell_type": "markdown",
   "metadata": {},
   "source": [
    "## Final Plot"
   ]
  },
  {
   "cell_type": "code",
   "execution_count": null,
   "metadata": {
    "ExecuteTime": {
     "end_time": "2019-05-06T14:06:44.340821Z",
     "start_time": "2019-05-06T14:06:43.722065Z"
    }
   },
   "outputs": [],
   "source": [
    "# Plot nmean agains max Mana\n",
    "fig = plt.figure(figsize=[12, 8])\n",
    "ax = plt.axes()\n",
    "ax.plot(cubicdfmax.nmean, cubicdfmax.WLN, label='Cubic Phase States')\n",
    "ax.scatter(cubicdfmax.nmean, cubicdfmax.WLN, label='_Cubic Phase State', s=10)\n",
    "\n",
    "ax.plot(anacubicdfmax.nmean, anacubicdfmax.WLN,\n",
    "        label='Semi-Analytic Cubic Phase States')\n",
    "ax.scatter(anacubicdfmax.nmean, anacubicdfmax.WLN,\n",
    "           label='_ana Cubic Phase States', s=10)\n",
    "\n",
    "ax.plot(inncubicdfmax.nmean, inncubicdfmax.WLN, label='Triple Photon States')\n",
    "ax.scatter(inncubicdfmax.nmean, inncubicdfmax.WLN,\n",
    "           label='_Triple Photon State', s=10)\n",
    "\n",
    "ax.scatter(fnmeans, fWLNs, label='Fock States')\n",
    "# ax.set_title('''Maximal Value of the Wigner Logarithmic Negativity (WLN) against the mean value of the number\n",
    "# operator for the triple photon state and cubic phase state''')\n",
    "ax.set_xlabel(r'$<\\hat{n}>$')\n",
    "ax.set_ylabel('WLN')\n",
    "ax.legend()\n",
    "\n",
    "\n",
    "fig.savefig('fig/WLN-fixed_n.pdf', format='pdf')\n",
    "\n",
    "plt.show()"
   ]
  },
  {
   "cell_type": "code",
   "execution_count": null,
   "metadata": {
    "ExecuteTime": {
     "end_time": "2019-05-06T14:06:44.955566Z",
     "start_time": "2019-05-06T14:06:44.344841Z"
    }
   },
   "outputs": [],
   "source": [
    "# Generate Mana Data for Fock states to compare\n",
    "fnmeans2 = []\n",
    "fWLNs2 = []\n",
    "N = 10\n",
    "for i in range(0, 9):\n",
    "    fockstate2 = fock(N, i)\n",
    "    fnmeans2.append(expect(num(N), fockstate2))\n",
    "    fWLNs2.append(wln(fockstate2, 1e-5)[0])"
   ]
  },
  {
   "cell_type": "code",
   "execution_count": null,
   "metadata": {
    "ExecuteTime": {
     "end_time": "2019-05-06T14:06:45.392979Z",
     "start_time": "2019-05-06T14:06:44.957495Z"
    }
   },
   "outputs": [],
   "source": [
    "# Plot nmean agains max Mana\n",
    "fig = plt.figure(figsize=[12, 8])\n",
    "ax = plt.axes()\n",
    "ax.plot(cubicdfmax.nmean, cubicdfmax.WLN, label='Cubic Phase States')\n",
    "ax.scatter(cubicdfmax.nmean, cubicdfmax.WLN, label='_Cubic Phase State', s=10)\n",
    "\n",
    "ax.plot(inncubicdfmax.nmean, inncubicdfmax.WLN, label='Triple Photon States')\n",
    "ax.scatter(inncubicdfmax.nmean, inncubicdfmax.WLN,\n",
    "           label='_Triple Photon State', s=10)\n",
    "\n",
    "ax.plot(inncubicdfmax.nmean * 1.4, inncubicdfmax.WLN, label='Triple Photon States - 40% Offset')\n",
    "ax.scatter(inncubicdfmax.nmean * 1.4, inncubicdfmax.WLN,\n",
    "           label='_Triple Photon State', s=10)\n",
    "\n",
    "ax.scatter(fnmeans2, fWLNs2, label='Fock States')\n",
    "# ax.set_title('''Maximal Value of the Wigner Logarithmic Negativity (WLN) against the mean value of the number\n",
    "# operator for the triple photon state and cubic phase state''')\n",
    "ax.set_xlabel(r'$<\\hat{n}>$')\n",
    "ax.set_ylabel('WLN')\n",
    "ax.legend()\n",
    "plt.xticks([0,1,2,3,4,5,6,7,8])\n",
    "\n",
    "fig.savefig('fig/WLN-fixed_n_error.pdf', format='pdf')\n",
    "\n",
    "plt.show()\n"
   ]
  },
  {
   "cell_type": "markdown",
   "metadata": {},
   "source": [
    "# Additional Analysis"
   ]
  },
  {
   "cell_type": "markdown",
   "metadata": {},
   "source": [
    "## High Energy & Low Energy States at Different N"
   ]
  },
  {
   "cell_type": "code",
   "execution_count": null,
   "metadata": {
    "ExecuteTime": {
     "end_time": "2019-05-06T14:06:45.420127Z",
     "start_time": "2019-05-06T14:06:45.396687Z"
    },
    "hide_input": false
   },
   "outputs": [],
   "source": [
    "inncubicdfmax.head(10)"
   ]
  },
  {
   "cell_type": "code",
   "execution_count": null,
   "metadata": {
    "ExecuteTime": {
     "end_time": "2019-05-06T14:06:46.705709Z",
     "start_time": "2019-05-06T14:06:45.423033Z"
    }
   },
   "outputs": [],
   "source": [
    "# gammahightest = 0.286364\n",
    "# rhightest = 0.039796\n",
    "\n",
    "gammatest =  0.160169\n",
    "rtest = 0.0\n",
    "\n",
    "N1 = 150\n",
    "N2 = 200\n",
    "N3 = 300\n",
    "trip1 = innercubic(gammatest, rtest, N1)\n",
    "trip2 = innercubic(gammatest, rtest, N2)\n",
    "trip3 = innercubic(gammatest, rtest, N3)\n",
    "print(trip1[1], trip2[1], trip3[1])"
   ]
  },
  {
   "cell_type": "code",
   "execution_count": null,
   "metadata": {
    "ExecuteTime": {
     "end_time": "2019-05-06T14:08:54.354530Z",
     "start_time": "2019-05-06T14:06:46.708281Z"
    }
   },
   "outputs": [],
   "source": [
    "wln1 = wln(trip1[0], 1e-3, 200, 200)\n",
    "wln2 = wln(trip2[0], 1e-3, 200, 200)\n",
    "wln3 = wln(trip3[0], 1e-3, 200, 200)\n",
    "\n",
    "print(wln1, wln2, wln3, sep='\\n')"
   ]
  },
  {
   "cell_type": "code",
   "execution_count": null,
   "metadata": {
    "ExecuteTime": {
     "end_time": "2019-05-06T14:08:54.360007Z",
     "start_time": "2019-05-06T14:08:54.356370Z"
    }
   },
   "outputs": [],
   "source": [
    "print(trip3[1] / trip1[1] - 1, trip2[1] / trip1[1] - 1)"
   ]
  },
  {
   "cell_type": "code",
   "execution_count": null,
   "metadata": {
    "ExecuteTime": {
     "end_time": "2019-05-06T14:08:54.369167Z",
     "start_time": "2019-05-06T14:08:54.361846Z"
    }
   },
   "outputs": [],
   "source": [
    "print(wln3[0] / wln1[0] - 1, wln2[0] / wln1[0] - 1)"
   ]
  },
  {
   "cell_type": "markdown",
   "metadata": {},
   "source": [
    "# Additional plots\n",
    "## 2d Parameter space plots with maximal WLN points marked"
   ]
  },
  {
   "cell_type": "code",
   "execution_count": null,
   "metadata": {
    "ExecuteTime": {
     "end_time": "2019-05-06T14:08:54.387009Z",
     "start_time": "2019-05-06T14:08:54.372261Z"
    }
   },
   "outputs": [],
   "source": [
    "# Calculate least squares fit to the Max Mana data\n",
    "[A1, B1], pcov1 = curve_fit(straightline, cubicdfmax.gamma, cubicdfmax.r)\n",
    "perr1 = np.sqrt(np.diag(pcov1))\n",
    "\n",
    "[A2, B2], pcov2 = curve_fit(straightline, inncubicdfmax.gamma, inncubicdfmax.r)\n",
    "perr2 = np.sqrt(np.diag(pcov2))"
   ]
  },
  {
   "cell_type": "code",
   "execution_count": null,
   "metadata": {
    "ExecuteTime": {
     "end_time": "2019-05-06T14:08:55.350552Z",
     "start_time": "2019-05-06T14:08:54.388616Z"
    }
   },
   "outputs": [],
   "source": [
    "# Plot Points at which we find the maximum Mana for constant nmean for each state\n",
    "\n",
    "fig = plt.figure(figsize=(8, 6))\n",
    "ax = plt.axes()\n",
    "# ax.set_title('Cubic Phase State')\n",
    "ax.set_xlabel(r'Cubicity - $\\gamma$')\n",
    "ax.set_ylabel(r'Squeezing - $r$')\n",
    "# Lines\n",
    "# plt.plot(cubicdfmax.gamma, straightline(cubicdfmax.gamma, A1, B1))\n",
    "# plt.plot(cubicdfmax.gamma, straightline(cubicdfmax.gamma, A1 + perr1[0], B1 + perr1[1]))\n",
    "# plt.plot(cubicdfmax.gamma, straightline(cubicdfmax.gamma, A1 - perr1[0], B1 - perr1[1]))\n",
    "# Scatters\n",
    "plt.scatter(cubicdfmax.gamma, cubicdfmax.r, zorder=1)\n",
    "plt.scatter(cubicdf.gamma, cubicdf.r, s=1, zorder=0)\n",
    "# ax.set_xlim(0.05, 0.2)\n",
    "# fig.savefig('fig/cubicphase-2dparameterplot-zoomed.pdf', bbox_inches=\"tight\")\n",
    "fig.savefig('fig/cubicphase-2dparameterplot-full.eps', bbox_inches = \"tight\")\n",
    "plt.show()\n",
    "\n",
    "fig = plt.figure(figsize=(8, 6))\n",
    "ax = plt.axes()\n",
    "# ax.set_title('Cubic Phase State')\n",
    "ax.set_xlabel(r'Cubicity - $\\gamma$')\n",
    "ax.set_ylabel(r'Squeezing - $r$')\n",
    "# Lines\n",
    "# plt.plot(cubicdfmax.gamma, straightline(cubicdfmax.gamma, A1, B1))\n",
    "# plt.plot(cubicdfmax.gamma, straightline(cubicdfmax.gamma, A1 + perr1[0], B1 + perr1[1]))\n",
    "# plt.plot(cubicdfmax.gamma, straightline(cubicdfmax.gamma, A1 - perr1[0], B1 - perr1[1]))\n",
    "# Scatters\n",
    "plt.scatter(anacubicdfmax.gamma, anacubicdfmax.r, zorder=1)\n",
    "plt.scatter(anacubicdf.gamma, anacubicdf.r, s=1, zorder=0)\n",
    "# ax.set_xlim(0.05,0.2)\n",
    "# fig.savefig('fig/analytic_cubicphase-2dparameterplot-zoomed.pdf', bbox_inches = \"tight\")\n",
    "# fig.savefig('fig/analytic_cubicphase-2dparameterplot-full.pdf',\n",
    "#             bbox_inches=\"tight\")\n",
    "plt.show()\n",
    "\n",
    "fig = plt.figure(figsize=(8, 6))\n",
    "ax = plt.axes()\n",
    "# ax.set_title('Triple Photon State')\n",
    "ax.set_xlabel(r'Triplicity - $\\mu$')\n",
    "ax.set_ylabel(r'Squeezing - $r$')\n",
    "# Lines\n",
    "# plt.plot(inncubicdfmax.gamma, straightline(inncubicdfmax.gamma, A2, B2))\n",
    "# plt.plot(inncubicdfmax.gamma, straightline(inncubicdfmax.gamma, A2 + perr2[0], B2 + perr2[1]))\n",
    "# plt.plot(inncubicdfmax.gamma, straightline(inncubicdfmax.gamma, A2 - perr2[0], B2 - perr2[1]))\n",
    "# Scatters\n",
    "plt.scatter(inncubicdfmax.gamma, inncubicdfmax.r, zorder=4)\n",
    "plt.scatter(inncubicdf.gamma, inncubicdf.r, s=1)\n",
    "# ax.set_ylim(-0.01, 0.12)\n",
    "# fig.savefig('fig/triplephoton-2dparameterplot-zoomed.pdf', bbox_inches = \"tight\")\n",
    "# fig.savefig('fig/triplephoton-2dparameterplot-full.pdf', bbox_inches=\"tight\")\n",
    "plt.show()"
   ]
  }
 ],
 "metadata": {
  "kernelspec": {
   "display_name": "Python 3",
   "language": "python",
   "name": "python3"
  },
  "language_info": {
   "codemirror_mode": {
    "name": "ipython",
    "version": 3
   },
   "file_extension": ".py",
   "mimetype": "text/x-python",
   "name": "python",
   "nbconvert_exporter": "python",
   "pygments_lexer": "ipython3",
   "version": "3.6.8"
  }
 },
 "nbformat": 4,
 "nbformat_minor": 2
}
