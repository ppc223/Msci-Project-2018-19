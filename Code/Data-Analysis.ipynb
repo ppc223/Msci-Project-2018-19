{
 "cells": [
  {
   "cell_type": "code",
   "execution_count": 1,
   "metadata": {},
   "outputs": [],
   "source": [
    "import matplotlib.pyplot as plt\n",
    "import scipy.constants as cons\n",
    "import pandas as pd\n",
    "import numpy as np\n",
    "\n",
    "from mpl_toolkits.mplot3d import Axes3D\n",
    "from matplotlib import cm\n",
    "from qutip import *\n",
    "from funcs import *\n",
    "from scipy.optimize import curve_fit\n",
    "\n",
    "def straightline(x, A, B):\n",
    "    return A * x + B"
   ]
  },
  {
   "cell_type": "code",
   "execution_count": 2,
   "metadata": {},
   "outputs": [
    {
     "name": "stdout",
     "output_type": "stream",
     "text": [
      "Using matplotlib backend: TkAgg\n"
     ]
    }
   ],
   "source": [
    "%matplotlib"
   ]
  },
  {
   "cell_type": "code",
   "execution_count": 19,
   "metadata": {},
   "outputs": [],
   "source": [
    "# Reading in data from file\n",
    "# cubicdf = pd.read_csv('cubic_good2.csv')\n",
    "# cubicdf = cubicdf[cubicdf.nmean < 6.05].sort_values('nmean')\n",
    "\n",
    "cubicdf = pd.read_csv('cubicanalytic_good4.csv')\n",
    "# cubicdf = pd.concat([pd.read_csv('cubicanalytic_good2.csv'), pd.read_csv('cubicanalytic_good3.csv')])\n",
    "cubicdf = cubicdf[cubicdf.nmean < 6.05].sort_values('nmean')\n",
    "\n",
    "inncubicdf = pd.read_csv('inner_cubic_good4.csv')\n",
    "inncubicdf = inncubicdf[inncubicdf.nmean < 6.05].sort_values('nmean')"
   ]
  },
  {
   "cell_type": "code",
   "execution_count": 20,
   "metadata": {},
   "outputs": [],
   "source": [
    "fig, ax = my3dscatter(cubicdf.gamma, cubicdf.r, cubicdf.WLN, title='', axeslabels=['gamma', 'r', 'WLN'])\n",
    "\n",
    "plt.show()"
   ]
  },
  {
   "cell_type": "code",
   "execution_count": 6,
   "metadata": {},
   "outputs": [],
   "source": [
    "fig, ax = my3dscatter(inncubicdf.gamma, inncubicdf.r, inncubicdf.WLN, title='', axeslabels=['gamma', 'r', 'WLN'])\n",
    "\n",
    "plt.show()"
   ]
  },
  {
   "cell_type": "code",
   "execution_count": 21,
   "metadata": {},
   "outputs": [],
   "source": [
    "# Creating bins for nmean data\n",
    "bins1 = np.arange(-0.05, 6.1, 0.1)\n",
    "bins2 = np.arange(-0.05, 6.1, 0.1)\n",
    "\n",
    "cubicdf['bins'] = pd.cut(cubicdf.nmean, bins1)\n",
    "inncubicdf['bins'] = pd.cut(inncubicdf.nmean, bins2)"
   ]
  },
  {
   "cell_type": "code",
   "execution_count": 22,
   "metadata": {},
   "outputs": [],
   "source": [
    "# Obtain the maximum Mana in each nmean bin\n",
    "maxWLNs1 = []\n",
    "maxWLNs2 = []\n",
    "for bin in np.unique(cubicdf.bins):\n",
    "    maxWLNs1.append(cubicdf[cubicdf.bins == bin].WLN.max())\n",
    "\n",
    "    \n",
    "for bin in np.unique(inncubicdf.bins):\n",
    "    maxWLNs2.append(inncubicdf[inncubicdf.bins == bin].WLN.max())\n",
    "\n",
    "# Define new dataframes as those with gamma, r coords corresponding to max Mana in bins \n",
    "cubicdfmax = cubicdf[cubicdf.WLN.isin(maxWLNs1)]\n",
    "inncubicdfmax = inncubicdf[inncubicdf.WLN.isin(maxWLNs2)]"
   ]
  },
  {
   "cell_type": "code",
   "execution_count": 23,
   "metadata": {},
   "outputs": [],
   "source": [
    "# Generate Mana Data for Fock states to compare\n",
    "fnmeans = []\n",
    "fWLNs = []\n",
    "N = 10\n",
    "for i in range(1,7):\n",
    "    fockstate = fock(N, i)\n",
    "    fnmeans.append(expect(num(N), fockstate))\n",
    "    fWLNs.append(wln(fockstate, 1e-5)[0])"
   ]
  },
  {
   "cell_type": "code",
   "execution_count": 26,
   "metadata": {},
   "outputs": [],
   "source": [
    "# Plot nmean agains max Mana\n",
    "plt.figure()\n",
    "plt.plot(cubicdfmax.nmean, cubicdfmax.WLN)\n",
    "plt.plot(inncubicdfmax.nmean, inncubicdfmax.WLN)\n",
    "plt.scatter(fnmeans, fWLNs)\n",
    "plt.show()"
   ]
  },
  {
   "cell_type": "code",
   "execution_count": 27,
   "metadata": {},
   "outputs": [],
   "source": [
    "# Calculate least squares fit to the Max Mana data\n",
    "[A1, B1], pcov1 = curve_fit(straightline, cubicdfmax.gamma, cubicdfmax.r)\n",
    "perr1 = np.sqrt(np.diag(pcov1))\n",
    "\n",
    "[A2, B2], pcov2 = curve_fit(straightline, inncubicdfmax.gamma, inncubicdfmax.r)\n",
    "perr2 = np.sqrt(np.diag(pcov2))"
   ]
  },
  {
   "cell_type": "code",
   "execution_count": 28,
   "metadata": {},
   "outputs": [],
   "source": [
    "# Plot Points at which we find the maximum Mana for constant nmean for each state\n",
    "\n",
    "plt.figure()\n",
    "ax = plt.axes()\n",
    "ax.set_title('Cubic Phase State')\n",
    "ax.set_xlabel('Gamma')\n",
    "ax.set_ylabel('r, Squeezing Factor')\n",
    "# Lines\n",
    "plt.plot(cubicdfmax.gamma, straightline(cubicdfmax.gamma, A1, B1))\n",
    "plt.plot(cubicdfmax.gamma, straightline(cubicdfmax.gamma, A1 + perr1[0], B1 + perr1[1]))\n",
    "plt.plot(cubicdfmax.gamma, straightline(cubicdfmax.gamma, A1 - perr1[0], B1 - perr1[1]))\n",
    "# Scatters\n",
    "plt.scatter(cubicdfmax.gamma, cubicdfmax.r)\n",
    "# plt.scatter(cubicdf.gamma, cubicdf.r, s = 1)\n",
    "plt.show()\n",
    "\n",
    "\n",
    "plt.figure()\n",
    "ax = plt.axes()\n",
    "ax.set_title('Inner Cubic State')\n",
    "ax.set_xlabel('Gamma')\n",
    "ax.set_ylabel('r, Squeezing Factor')\n",
    "# Lines\n",
    "plt.plot(inncubicdfmax.gamma, straightline(inncubicdfmax.gamma, A2, B2))\n",
    "plt.plot(inncubicdfmax.gamma, straightline(inncubicdfmax.gamma, A2 + perr2[0], B2 + perr2[1]))\n",
    "plt.plot(inncubicdfmax.gamma, straightline(inncubicdfmax.gamma, A2 - perr2[0], B2 - perr2[1]))\n",
    "# Scatters\n",
    "plt.scatter(inncubicdfmax.gamma, inncubicdfmax.r)\n",
    "# plt.scatter(inncubicdf.gamma, inncubicdf.r, s = 1)\n",
    "plt.show()"
   ]
  },
  {
   "cell_type": "code",
   "execution_count": 29,
   "metadata": {},
   "outputs": [
    {
     "ename": "NameError",
     "evalue": "name 'gamma1' is not defined",
     "output_type": "error",
     "traceback": [
      "\u001b[0;31m---------------------------------------------------------------------------\u001b[0m",
      "\u001b[0;31mNameError\u001b[0m                                 Traceback (most recent call last)",
      "\u001b[0;32m<ipython-input-29-4d94dd31b55c>\u001b[0m in \u001b[0;36m<module>\u001b[0;34m()\u001b[0m\n\u001b[1;32m      5\u001b[0m \u001b[0max\u001b[0m\u001b[0;34m.\u001b[0m\u001b[0mscatter\u001b[0m\u001b[0;34m(\u001b[0m\u001b[0mcubicdfmax\u001b[0m\u001b[0;34m.\u001b[0m\u001b[0mgamma\u001b[0m\u001b[0;34m,\u001b[0m \u001b[0mcubicdfmax\u001b[0m\u001b[0;34m.\u001b[0m\u001b[0mr\u001b[0m\u001b[0;34m,\u001b[0m \u001b[0mcubicdfmax\u001b[0m\u001b[0;34m.\u001b[0m\u001b[0mWLN\u001b[0m\u001b[0;34m,\u001b[0m \u001b[0ms\u001b[0m\u001b[0;34m=\u001b[0m\u001b[0;36m50\u001b[0m\u001b[0;34m,\u001b[0m \u001b[0mc\u001b[0m\u001b[0;34m=\u001b[0m\u001b[0mcubicdfmax\u001b[0m\u001b[0;34m.\u001b[0m\u001b[0mWLN\u001b[0m\u001b[0;34m,\u001b[0m \u001b[0mcmap\u001b[0m\u001b[0;34m=\u001b[0m\u001b[0mcm\u001b[0m\u001b[0;34m.\u001b[0m\u001b[0mjet\u001b[0m\u001b[0;34m)\u001b[0m\u001b[0;34m\u001b[0m\u001b[0;34m\u001b[0m\u001b[0m\n\u001b[1;32m      6\u001b[0m \u001b[0;34m\u001b[0m\u001b[0m\n\u001b[0;32m----> 7\u001b[0;31m \u001b[0max\u001b[0m\u001b[0;34m.\u001b[0m\u001b[0mscatter\u001b[0m\u001b[0;34m(\u001b[0m\u001b[0mgamma1\u001b[0m\u001b[0;34m,\u001b[0m \u001b[0msqf1\u001b[0m\u001b[0;34m,\u001b[0m \u001b[0mWLNs1\u001b[0m\u001b[0;34m,\u001b[0m \u001b[0ms\u001b[0m \u001b[0;34m=\u001b[0m \u001b[0;36m1\u001b[0m\u001b[0;34m,\u001b[0m \u001b[0mc\u001b[0m\u001b[0;34m=\u001b[0m\u001b[0;34m'black'\u001b[0m\u001b[0;34m)\u001b[0m\u001b[0;34m\u001b[0m\u001b[0;34m\u001b[0m\u001b[0m\n\u001b[0m\u001b[1;32m      8\u001b[0m \u001b[0;34m\u001b[0m\u001b[0m\n\u001b[1;32m      9\u001b[0m \u001b[0mplt\u001b[0m\u001b[0;34m.\u001b[0m\u001b[0mshow\u001b[0m\u001b[0;34m(\u001b[0m\u001b[0;34m)\u001b[0m\u001b[0;34m\u001b[0m\u001b[0;34m\u001b[0m\u001b[0m\n",
      "\u001b[0;31mNameError\u001b[0m: name 'gamma1' is not defined"
     ]
    }
   ],
   "source": [
    "# Same as above but 3d scatters\n",
    "\n",
    "fig, ax = my3dscatter(cubicdfmax.gamma, cubicdfmax.r, cubicdfmax.WLN, 'Cubic Phase State', ['gamma', 'r', 'WLN'])\n",
    "\n",
    "ax.scatter(cubicdfmax.gamma, cubicdfmax.r, cubicdfmax.WLN, s=50, c=cubicdfmax.WLN, cmap=cm.jet)\n",
    "\n",
    "ax.scatter(cubicdf.gamma, cubicdf.r, cubicdf.WLN, s = 1, c='black')\n",
    "\n",
    "plt.show()"
   ]
  },
  {
   "cell_type": "code",
   "execution_count": null,
   "metadata": {},
   "outputs": [],
   "source": [
    "fig, ax = my3dscatter(inncubicdfmax.gamma, inncubicdfmax.r, inncubicdfmax.WLN, \n",
    "                      'Inner Cubic State', ['gamma', 'r', 'WLN'])\n",
    "\n",
    "ax.scatter(inncubicdfmax.gamma, inncubicdfmax.r, inncubicdfmax.WLN, s=50, c=inncubicdfmax.WLN, cmap=cm.jet)\n",
    "\n",
    "ax.scatter(inncubicdf.gamma, inncubicdf.r, inncubicdf.WLN, s = 1, c='black')\n",
    "\n",
    "plt.show()"
   ]
  },
  {
   "cell_type": "code",
   "execution_count": null,
   "metadata": {},
   "outputs": [],
   "source": [
    "# gamma,sqz = 0.152, 0.152\n",
    "\n",
    "# N = 200\n",
    "\n",
    "# innercube, nmean= innercubic(gamma, sqz, N)\n",
    "\n",
    "# print(nmean, innercube.norm())\n",
    "\n",
    "# wlnnum2, wignormnum2, time12, time22, x3bound, p3bound = wln(innercube, 1e-3, 200, 200, [-10,10], [-10,10])\n",
    "\n",
    "# print(time12, time22)\n",
    "\n",
    "# print(wlnnum2, wignormnum2)"
   ]
  },
  {
   "cell_type": "code",
   "execution_count": null,
   "metadata": {},
   "outputs": [],
   "source": [
    "# fig, ax = myplotwigner(innercube, x3bound, p3bound)\n",
    "# plt.show()"
   ]
  },
  {
   "cell_type": "code",
   "execution_count": null,
   "metadata": {},
   "outputs": [],
   "source": [
    "# rs = np.unique(np.array(cubicdf.r))\n",
    "\n",
    "# WLNarr1 = []\n",
    "# nmeanarr1 = []\n",
    "# for r in rs:\n",
    "# #     WLNarr1.append(np.array(cubicdf[cubicdf.r > r-0.01][cubicdf.r < r + 0.01].WLN))\n",
    "#     WLNarr1.append(np.array(cubicdf[cubicdf.r == r].WLN))\n",
    "#     nmeanarr1.append(np.array(cubicdf[cubicdf.r == r].nmean))"
   ]
  },
  {
   "cell_type": "code",
   "execution_count": null,
   "metadata": {},
   "outputs": [],
   "source": [
    "# rs = np.unique(np.array(inncubicdf.r))\n",
    "\n",
    "# WLNarr2 = []\n",
    "# for r in rs:\n",
    "#     WLNarr2.append(np.array(inncubicdf[inncubicdf.r == r].WLN))"
   ]
  },
  {
   "cell_type": "code",
   "execution_count": null,
   "metadata": {},
   "outputs": [],
   "source": [
    "# WLNarr1 =np.array(WLNarr1)\n",
    "# WLNarr2 =np.array(WLNarr2)\n",
    "# nmeanarr1 = np.array(nmeanarr1)\n",
    "# nmeanarr2 = np.array(nmeanarr2)"
   ]
  }
 ],
 "metadata": {
  "kernelspec": {
   "display_name": "Python 3",
   "language": "python",
   "name": "python3"
  },
  "language_info": {
   "codemirror_mode": {
    "name": "ipython",
    "version": 3
   },
   "file_extension": ".py",
   "mimetype": "text/x-python",
   "name": "python",
   "nbconvert_exporter": "python",
   "pygments_lexer": "ipython3",
   "version": "3.6.7"
  }
 },
 "nbformat": 4,
 "nbformat_minor": 2
}
