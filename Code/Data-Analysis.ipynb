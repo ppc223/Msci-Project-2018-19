{
 "cells": [
  {
   "cell_type": "code",
   "execution_count": 1,
   "metadata": {},
   "outputs": [],
   "source": [
    "import matplotlib.pyplot as plt\n",
    "import scipy.constants as cons\n",
    "import pandas as pd\n",
    "import numpy as np\n",
    "\n",
    "from mpl_toolkits.mplot3d import Axes3D\n",
    "from matplotlib import cm\n",
    "from qutip import *\n",
    "from funcs import *\n",
    "from scipy.optimize import curve_fit\n",
    "\n",
    "def straightline(x, A, B):\n",
    "    return A * x + B"
   ]
  },
  {
   "cell_type": "code",
   "execution_count": null,
   "metadata": {},
   "outputs": [],
   "source": [
    "%matplotlib"
   ]
  },
  {
   "cell_type": "markdown",
   "metadata": {},
   "source": [
    "This notebook is kind of a mess but should be understandable, may need to change the files being read in below.\n",
    "If anything unclear please ask.\n",
    "\n",
    "Ps. Don't run all cells at once as there are many graphs being plotted."
   ]
  },
  {
   "cell_type": "code",
   "execution_count": 25,
   "metadata": {},
   "outputs": [],
   "source": [
    "# inncubicdfmax"
   ]
  },
  {
   "cell_type": "code",
   "execution_count": 19,
   "metadata": {},
   "outputs": [],
   "source": [
    "# Reading in data from file\n",
    "# cubicdf = pd.read_csv('cubic_good3.csv')\n",
    "cubicdf = pd.concat([pd.read_csv('cubic_good3.csv'), \n",
    "                     pd.read_csv('cubic_good2.csv')], ignore_index=True)\n",
    "cubicdf = cubicdf[cubicdf.nmean < 6.05].sort_values('nmean')\n",
    "\n",
    "# cubicdf = pd.read_csv('cubicanalytic_good3.csv').sort_values('nmean')\n",
    "# cubicdf = cubicdf[cubicdf.nmean < 6.05].sort_values('nmean')\n",
    "\n",
    "# pd.concat([pd.read_csv(), pd.read_csv()], ignore_index=True)\n",
    "\n",
    "# inncubicdf = pd.read_csv('inner_cubic_highdensity.csv')\n",
    "inncubicdf = pd.concat([pd.read_csv('inner_cubic_highdensity.csv'), \n",
    "                        pd.read_csv('inner_cubic_nmeanregion.csv'),\n",
    "                        pd.read_csv('inner_cubic.csv')], ignore_index=True)\n",
    "inncubicdf = inncubicdf[inncubicdf.nmean < 6.05].sort_values('nmean')"
   ]
  },
  {
   "cell_type": "code",
   "execution_count": null,
   "metadata": {},
   "outputs": [],
   "source": [
    "# inncubicdf.describe()\n",
    "# cubicdf.describe()"
   ]
  },
  {
   "cell_type": "code",
   "execution_count": null,
   "metadata": {},
   "outputs": [],
   "source": [
    "# fig, ax = myplotwigner(innercubic(0.290678, 0.027966, 150)[0], [-10,10], [-10,10], fineness = 100)\n",
    "# plt.show()"
   ]
  },
  {
   "cell_type": "code",
   "execution_count": null,
   "metadata": {},
   "outputs": [],
   "source": [
    "fig, ax = my3dscatter(cubicdf.gamma, cubicdf.r, cubicdf.WLN, title='', axeslabels=['gamma', 'r', 'WLN'])\n",
    "\n",
    "plt.show()"
   ]
  },
  {
   "cell_type": "code",
   "execution_count": 91,
   "metadata": {},
   "outputs": [],
   "source": [
    "fig, ax = my3dscatter(inncubicdf.gamma, inncubicdf.r, inncubicdf.WLN, title='', axeslabels=['gamma', 'r', 'WLN'])\n",
    "\n",
    "plt.show()"
   ]
  },
  {
   "cell_type": "code",
   "execution_count": 10,
   "metadata": {},
   "outputs": [],
   "source": [
    "# Creating bins for nmean data\n",
    "bins1 = np.linspace(-0.05, cubicdf.nmean.max(), 60)\n",
    "bins2 = np.linspace(-0.05, inncubicdf.nmean.max(), 60)\n",
    "\n",
    "cubicdf['nmeanbins'] = pd.cut(cubicdf.nmean, bins1)\n",
    "inncubicdf['nmeanbins'] = pd.cut(inncubicdf.nmean, bins2)"
   ]
  },
  {
   "cell_type": "code",
   "execution_count": 11,
   "metadata": {},
   "outputs": [],
   "source": [
    "# Obtain the maximum Mana in each nmean bin\n",
    "maxWLNs1 = []\n",
    "maxWLNs2 = []\n",
    "for bin in np.unique(cubicdf.nmeanbins):\n",
    "    maxWLNs1.append(cubicdf[cubicdf.nmeanbins == bin].WLN.max())\n",
    "\n",
    "    \n",
    "for bin in np.unique(inncubicdf.nmeanbins):\n",
    "    maxWLNs2.append(inncubicdf[inncubicdf.nmeanbins == bin].WLN.max())\n",
    "\n",
    "# Define new dataframes as those with gamma, r coords corresponding to max Mana in nmeanbins \n",
    "cubicdfmax = cubicdf[cubicdf.WLN.isin(maxWLNs1)]\n",
    "# cubicdfmax = cubicdfmax[cubicdfmax.nmean > 0.15]\n",
    "inncubicdfmax = inncubicdf[inncubicdf.WLN.isin(maxWLNs2)]"
   ]
  },
  {
   "cell_type": "code",
   "execution_count": 12,
   "metadata": {},
   "outputs": [],
   "source": [
    "# Generate Mana Data for Fock states to compare\n",
    "fnmeans = []\n",
    "fWLNs = []\n",
    "N = 10\n",
    "for i in range(1,7):\n",
    "    fockstate = fock(N, i)\n",
    "    fnmeans.append(expect(num(N), fockstate))\n",
    "    fWLNs.append(wln(fockstate, 1e-5)[0])"
   ]
  },
  {
   "cell_type": "code",
   "execution_count": 18,
   "metadata": {},
   "outputs": [],
   "source": [
    "datafile = 'triple_photon_max_data.csv'\n",
    "with open(datafile, 'a') as f:\n",
    "            inncubicdfmax.to_csv(f, index=False)\n",
    "        \n",
    "datafile = 'cubic_max_data.csv'\n",
    "with open(datafile, 'a') as f:\n",
    "            cubicdfmax.to_csv(f, index=False)"
   ]
  },
  {
   "cell_type": "code",
   "execution_count": 14,
   "metadata": {},
   "outputs": [],
   "source": [
    "# Plot nmean agains max Mana\n",
    "fig = plt.figure()\n",
    "ax = plt.axes()\n",
    "ax.plot(cubicdfmax.nmean, cubicdfmax.WLN, label='Cubic Phase State')\n",
    "ax.scatter(cubicdfmax.nmean, cubicdfmax.WLN, label='Cubic Phase State')\n",
    "ax.plot(inncubicdfmax.nmean, inncubicdfmax.WLN, label='Inner Cubic State')\n",
    "ax.scatter(inncubicdfmax.nmean, inncubicdfmax.WLN, label='Inner Cubic State')\n",
    "ax.scatter(fnmeans, fWLNs, label='Fock States')\n",
    "\n",
    "ax.set_title('''Maximal Value of Mana (WLN) against the mean value of the number \n",
    "operator for the inner cubic state and cubic phase state''')\n",
    "ax.set_xlabel('<n>')\n",
    "ax.set_ylabel('Mana / WLN')\n",
    "ax.legend()\n",
    "\n",
    "plt.show()"
   ]
  },
  {
   "cell_type": "code",
   "execution_count": 21,
   "metadata": {},
   "outputs": [],
   "source": [
    "# Calculate least squares fit to the Max Mana data\n",
    "[A1, B1], pcov1 = curve_fit(straightline, cubicdfmax.gamma, cubicdfmax.r)\n",
    "perr1 = np.sqrt(np.diag(pcov1))\n",
    "\n",
    "[A2, B2], pcov2 = curve_fit(straightline, inncubicdfmax.gamma, inncubicdfmax.r)\n",
    "perr2 = np.sqrt(np.diag(pcov2))"
   ]
  },
  {
   "cell_type": "code",
   "execution_count": 23,
   "metadata": {},
   "outputs": [],
   "source": [
    "# Plot Points at which we find the maximum Mana for constant nmean for each state\n",
    "\n",
    "plt.figure()\n",
    "ax = plt.axes()\n",
    "ax.set_title('Cubic Phase State')\n",
    "ax.set_xlabel('Gamma')\n",
    "ax.set_ylabel('r, Squeezing Factor')\n",
    "# Lines\n",
    "plt.plot(cubicdfmax.gamma, straightline(cubicdfmax.gamma, A1, B1))\n",
    "plt.plot(cubicdfmax.gamma, straightline(cubicdfmax.gamma, A1 + perr1[0], B1 + perr1[1]))\n",
    "plt.plot(cubicdfmax.gamma, straightline(cubicdfmax.gamma, A1 - perr1[0], B1 - perr1[1]))\n",
    "# Scatters\n",
    "plt.scatter(cubicdfmax.gamma, cubicdfmax.r)\n",
    "plt.scatter(cubicdf.gamma, cubicdf.r, s = 1)\n",
    "plt.show()\n",
    "\n",
    "\n",
    "plt.figure()\n",
    "ax = plt.axes()\n",
    "ax.set_title('Inner Cubic State')\n",
    "ax.set_xlabel('Gamma')\n",
    "ax.set_ylabel('r, Squeezing Factor')\n",
    "# Lines\n",
    "plt.plot(inncubicdfmax.gamma, straightline(inncubicdfmax.gamma, A2, B2))\n",
    "plt.plot(inncubicdfmax.gamma, straightline(inncubicdfmax.gamma, A2 + perr2[0], B2 + perr2[1]))\n",
    "plt.plot(inncubicdfmax.gamma, straightline(inncubicdfmax.gamma, A2 - perr2[0], B2 - perr2[1]))\n",
    "# Scatters\n",
    "plt.scatter(inncubicdfmax.gamma, inncubicdfmax.r)\n",
    "plt.scatter(inncubicdf.gamma, inncubicdf.r, s = 1)\n",
    "plt.show()"
   ]
  },
  {
   "cell_type": "code",
   "execution_count": null,
   "metadata": {},
   "outputs": [],
   "source": [
    "# Same as above but 3d scatters\n",
    "\n",
    "fig, ax = my3dscatter(cubicdfmax.gamma, cubicdfmax.r, cubicdfmax.WLN, 'Cubic Phase State', ['gamma', 'r', 'WLN'])\n",
    "\n",
    "ax.scatter(cubicdfmax.gamma, cubicdfmax.r, cubicdfmax.WLN, s=50, c=cubicdfmax.WLN, cmap=cm.jet)\n",
    "\n",
    "ax.scatter(cubicdf.gamma, cubicdf.r, cubicdf.WLN, s = 1, c='black')\n",
    "\n",
    "plt.show()"
   ]
  },
  {
   "cell_type": "code",
   "execution_count": 68,
   "metadata": {},
   "outputs": [],
   "source": [
    "fig, ax = my3dscatter(inncubicdfmax.gamma, inncubicdfmax.r, inncubicdfmax.WLN, \n",
    "                      'Inner Cubic State', ['gamma', 'r', 'WLN'])\n",
    "\n",
    "ax.scatter(inncubicdfmax.gamma, inncubicdfmax.r, inncubicdfmax.WLN, s=50, c=inncubicdfmax.WLN, cmap=cm.jet)\n",
    "\n",
    "ax.scatter(inncubicdf.gamma, inncubicdf.r, inncubicdf.WLN, s = 1, c='black')\n",
    "\n",
    "plt.show()"
   ]
  }
 ],
 "metadata": {
  "kernelspec": {
   "display_name": "Python 3",
   "language": "python",
   "name": "python3"
  },
  "language_info": {
   "codemirror_mode": {
    "name": "ipython",
    "version": 3
   },
   "file_extension": ".py",
   "mimetype": "text/x-python",
   "name": "python",
   "nbconvert_exporter": "python",
   "pygments_lexer": "ipython3",
   "version": "3.6.7"
  }
 },
 "nbformat": 4,
 "nbformat_minor": 2
}
