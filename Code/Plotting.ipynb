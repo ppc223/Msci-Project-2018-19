{
 "cells": [
  {
   "cell_type": "markdown",
   "metadata": {},
   "source": [
    "# Plotting Notebook\n",
    "This notebook was used to produce most of the plots of state wigner functions and some numerical-analytical comparisons for the cubic state"
   ]
  },
  {
   "cell_type": "code",
   "execution_count": null,
   "metadata": {
    "ExecuteTime": {
     "end_time": "2019-05-06T14:06:42.340557Z",
     "start_time": "2019-05-06T14:06:41.453905Z"
    },
    "hide_input": false
   },
   "outputs": [],
   "source": [
    "import time\n",
    "\n",
    "import matplotlib as mpl\n",
    "import matplotlib.pyplot as plt\n",
    "import numpy as np\n",
    "import pandas as pd\n",
    "import scipy\n",
    "\n",
    "from mpl_toolkits.mplot3d import Axes3D\n",
    "from scipy.special import airy\n",
    "from matplotlib import cm\n",
    "from qutip import *\n",
    "from funcs import *\n",
    "\n",
    "%matplotlib inline"
   ]
  },
  {
   "cell_type": "code",
   "execution_count": null,
   "metadata": {
    "ExecuteTime": {
     "end_time": "2019-05-06T14:06:42.590506Z",
     "start_time": "2019-05-06T14:06:42.342260Z"
    }
   },
   "outputs": [],
   "source": [
    "N = 50\n",
    "\n",
    "# States\n",
    "vac = basis(N, 0)\n",
    "\n",
    "fockone = basis(N, 1)\n",
    "focktwo = basis(N, 2)\n",
    "\n",
    "coher = coherent(N, 1)\n",
    "\n",
    "sqzvac = squeeze(N, 0.5) * vac"
   ]
  },
  {
   "cell_type": "code",
   "execution_count": null,
   "metadata": {
    "ExecuteTime": {
     "end_time": "2019-05-06T14:06:42.607340Z",
     "start_time": "2019-05-06T14:06:42.592775Z"
    }
   },
   "outputs": [],
   "source": [
    "# Choosing Styles\n",
    "print(plt.style.available)\n",
    "plt.style.use(('classic', 'seaborn', 'seaborn-white', 'seaborn-talk'))\n",
    "#('classic', 'seaborn', 'seaborn-white', 'seaborn-talk')\n",
    "mpl.rcParams['axes.labelpad']= 15\n",
    "mpl.rcParams['axes.labelsize']= 20\n",
    "# mpl.rcParams['ytick.major.pad']='20'\n",
    "# mpl.rcParams['ztick.major.pad']='20'"
   ]
  },
  {
   "cell_type": "code",
   "execution_count": null,
   "metadata": {
    "ExecuteTime": {
     "end_time": "2019-05-06T14:06:43.797782Z",
     "start_time": "2019-05-06T14:06:42.611607Z"
    },
    "hide_input": false,
    "scrolled": false
   },
   "outputs": [],
   "source": [
    "# Testing Styles\n",
    "with plt.style.context(('seaborn', 'seaborn-white', 'seaborn-talk')):\n",
    "    fig1, ax1 = myplotwigner(fockone, [-4, 4], [-4, 4], title='First Fock State')\n",
    "ax1.view_init(elev=20, azim=-65)\n",
    "\n",
    "# ax1.set_xlabel('label text', labelpad=-30)\n",
    "# ax1.set_ylabel('label text', labelpad=-30)\n",
    "# ax1.set_zlabel('label text', labelpad=-30)"
   ]
  },
  {
   "cell_type": "code",
   "execution_count": null,
   "metadata": {
    "ExecuteTime": {
     "end_time": "2019-05-06T14:06:47.992029Z",
     "start_time": "2019-05-06T14:06:43.800121Z"
    },
    "hide_input": false,
    "scrolled": false
   },
   "outputs": [],
   "source": [
    "# , title='Vacuum State')\n",
    "fig0, ax0 = myplotwigner(vac, [-4, 4], [-4, 4], cont=True)\n",
    "ax0.view_init(elev=20, azim=-65 - 90)\n",
    "\n",
    "# , title='First Fock State')\n",
    "fig1, ax1 = myplotwigner(fockone, [-4, 4], [-4, 4])\n",
    "ax1.view_init(elev=20, azim=-65 - 90)\n",
    "\n",
    "# , title='Second Fock State', fineness=80)\n",
    "fig2, ax2 = myplotwigner(focktwo, [-4, 4], [-4, 4])\n",
    "ax2.view_init(elev=20, azim=-65 - 90)\n",
    "\n",
    "fig0.savefig('fig/vac.pdf', format='pdf')\n",
    "fig1.savefig('fig/fockone.pdf', format='pdf')\n",
    "fig2.savefig('fig/focktwo.pdf', format='pdf')"
   ]
  },
  {
   "cell_type": "code",
   "execution_count": null,
   "metadata": {
    "ExecuteTime": {
     "end_time": "2019-05-06T14:06:50.387310Z",
     "start_time": "2019-05-06T14:06:47.994717Z"
    },
    "hide_input": false
   },
   "outputs": [],
   "source": [
    "# , title='Coherent State')\n",
    "figcoh, axcoh = myplotwigner(coher, [-4, 4], [-4, 4])\n",
    "axcoh.view_init(elev=20, azim=-65)\n",
    "\n",
    "# , title='Squeezed Vacuum State')\n",
    "figsqz, axsqz = myplotwigner(sqzvac, [-4, 4], [-4, 4], cont=True)\n",
    "axsqz.view_init(elev=20, azim=-55 - 90)\n",
    "axsqz.dist = 10.5\n",
    "figcoh.savefig('fig/coher.pdf', format='pdf')\n",
    "figsqz.savefig('fig/sqzvac.pdf', format='pdf')"
   ]
  },
  {
   "cell_type": "code",
   "execution_count": null,
   "metadata": {
    "ExecuteTime": {
     "end_time": "2019-05-06T14:07:00.106248Z",
     "start_time": "2019-05-06T14:06:50.390669Z"
    },
    "hide_input": false
   },
   "outputs": [],
   "source": [
    "mpl.rcParams['axes.labelsize']= 14.3\n",
    "\n",
    "# CPS and TPS versions here\n",
    "gamma1 = 0.05\n",
    "r1 = 1\n",
    "N2 = 200\n",
    "\n",
    "figcub, axcub = myplotwigner(cubic(gamma1, r1, N2)[0], [-5, 5], [-1.5, 6])\n",
    "axcub.view_init(elev=40, azim=230 - 90)\n",
    "axcub.dist = 10.5\n",
    "\n",
    "gamma2 = 0.15\n",
    "r2 = 0.05\n",
    "\n",
    "figtri, axtri = myplotwigner(innercubic(gamma2, r2, N2)[\n",
    "                             0], [-4, 4], [-4, 4], rccount=90)\n",
    "axtri.view_init(elev=40, azim=230 - 100)\n",
    "axtri.dist = 10.5\n",
    "\n",
    "figcub.savefig('fig/cubic.pdf', format='pdf', bbox_inches = \"tight\")\n",
    "figtri.savefig('fig/triple.eps', format='eps', bbox_inches = \"tight\")"
   ]
  },
  {
   "cell_type": "markdown",
   "metadata": {},
   "source": [
    "## Analytic / Numeric comparison for CPS"
   ]
  },
  {
   "cell_type": "code",
   "execution_count": null,
   "metadata": {
    "ExecuteTime": {
     "end_time": "2019-05-06T14:07:00.115810Z",
     "start_time": "2019-05-06T14:07:00.109760Z"
    }
   },
   "outputs": [],
   "source": [
    "# Highest nmean in final plot at r = 1.302542 gamma = 0.071186\n",
    "# Highest nmean in whole data set at gamma = 0.873418 r = 0.230769"
   ]
  },
  {
   "cell_type": "code",
   "execution_count": null,
   "metadata": {
    "ExecuteTime": {
     "end_time": "2019-05-06T14:07:01.523026Z",
     "start_time": "2019-05-06T14:07:00.118785Z"
    }
   },
   "outputs": [],
   "source": [
    "gamma = 0.071\n",
    "r = 1.30\n",
    "q, p = np.linspace(-9, 9, 200), np.linspace(-4.5, 20, 200)\n",
    "# gamma = 0.873\n",
    "# r = 0.230\n",
    "# q, p = np.linspace(-3, 3, 200), np.linspace(-4.5, 20, 200)\n",
    "N = 300\n",
    "cubestate, n = cubic(gamma, r, N)\n",
    "print(n)"
   ]
  },
  {
   "cell_type": "code",
   "execution_count": null,
   "metadata": {
    "ExecuteTime": {
     "end_time": "2019-05-06T14:07:01.529995Z",
     "start_time": "2019-05-06T14:07:01.526450Z"
    },
    "code_folding": []
   },
   "outputs": [],
   "source": [
    "# wlnnum = wln(cubestate, 1e-4, 400, 400, [-9, 9], [-15, 15])\n",
    "# # wlnana = wlnanalytic(gamma, r, 1e-4, 400, 400)\n",
    "# print(wlnnum)#, wlnana, sep='\\n')"
   ]
  },
  {
   "cell_type": "code",
   "execution_count": null,
   "metadata": {
    "ExecuteTime": {
     "end_time": "2019-05-06T14:07:24.390684Z",
     "start_time": "2019-05-06T14:07:01.535241Z"
    }
   },
   "outputs": [],
   "source": [
    "analy = wigcubic(q, p, gamma, r)\n",
    "numer = wigner(cubestate, q, p)"
   ]
  },
  {
   "cell_type": "code",
   "execution_count": null,
   "metadata": {
    "ExecuteTime": {
     "end_time": "2019-05-06T14:07:25.417929Z",
     "start_time": "2019-05-06T14:07:24.392238Z"
    }
   },
   "outputs": [],
   "source": [
    "norm = MidpointNorm(0)\n",
    "\n",
    "diffig, difax = mycontourplot(q, p, numer - analy, fr'''$N = {N}$, $\\gamma = {gamma}$, $r = {r}$,\n",
    "$<n> = {n:.04}$''', ['q', 'p'], cmap='seismic', norm=norm)\n",
    "\n",
    "figcont.savefig('fig/ana-num_comparison_1-HighN.pdf', bbox_inches = \"tight\")\n",
    "# figcont.savefig('fig/ana-num_comparison_2-HighN.pdf', bbox_inches = \"tight\")\n",
    "# figcont.savefig('fig/ana-num_comparison_1.pdf', bbox_inches = \"tight\")\n",
    "# figcont.savefig('fig/ana-num_comparison_2.pdf', bbox_inches = \"tight\")"
   ]
  },
  {
   "cell_type": "code",
   "execution_count": null,
   "metadata": {
    "ExecuteTime": {
     "end_time": "2019-05-06T14:07:25.421006Z",
     "start_time": "2019-05-06T14:06:41.567Z"
    }
   },
   "outputs": [],
   "source": [
    "norm = MidpointNorm(np.abs(numer).min())\n",
    "\n",
    "numfig, numax = mycontourplot(q, p, numer.real, fr'''$N = {N}$, $\\gamma = {gamma}$, $r = {r}$,\n",
    "$<n> = {n:.04}$''', ['q', 'p'], cmap='seismic', norm=norm)\n",
    "\n",
    "numfig.savefig('fig/num_cubic_contour_1-HighN.pdf', format='pdf', bbox_inches = \"tight\")\n",
    "# numfig.savefig('fig/num_cubic_contour_2-HighN.pdf', format='pdf', bbox_inches = \"tight\")\n",
    "# numfig.savefig('fig/num_cubic_contour_1.pdf', format='pdf', bbox_inches = \"tight\")\n",
    "# numfig.savefig('fig/num_cubic_contour_2.pdf', format='pdf', bbox_inches = \"tight\")"
   ]
  },
  {
   "cell_type": "code",
   "execution_count": null,
   "metadata": {
    "ExecuteTime": {
     "end_time": "2019-05-06T14:07:25.422477Z",
     "start_time": "2019-05-06T14:06:41.573Z"
    }
   },
   "outputs": [],
   "source": [
    "norm = MidpointNorm(np.abs(analy).min())\n",
    "\n",
    "anafig, anaax = mycontourplot(q, p, analy.real, fr'''$\\gamma = {gamma}$, $r = {r}$,\n",
    "$<n> = {n:.04}$''', ['q', 'p'], cmap='seismic', norm=norm)\n",
    "\n",
    "anafig.savefig('fig/ana_cubic_contour_1-HighN.pdf', format='pdf', bbox_inches = \"tight\")\n",
    "# anafig.savefig('fig/ana_cubic_contour_2-HighN.pdf', format='pdf', bbox_inches = \"tight\")\n",
    "# anafig.savefig('fig/ana_cubic_contour_1.pdf', format='pdf', bbox_inches = \"tight\")\n",
    "# anafig.savefig('fig/ana_cubic_contour_2.pdf', format='pdf', bbox_inches = \"tight\")"
   ]
  }
 ],
 "metadata": {
  "kernelspec": {
   "display_name": "Python 3",
   "language": "python",
   "name": "python3"
  },
  "language_info": {
   "codemirror_mode": {
    "name": "ipython",
    "version": 3
   },
   "file_extension": ".py",
   "mimetype": "text/x-python",
   "name": "python",
   "nbconvert_exporter": "python",
   "pygments_lexer": "ipython3",
   "version": "3.6.8"
  }
 },
 "nbformat": 4,
 "nbformat_minor": 2
}
