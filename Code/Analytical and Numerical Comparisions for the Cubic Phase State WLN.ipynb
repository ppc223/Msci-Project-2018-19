{
 "cells": [
  {
   "cell_type": "code",
   "execution_count": 1,
   "metadata": {},
   "outputs": [],
   "source": [
    "import time\n",
    "\n",
    "import matplotlib.pyplot as plt\n",
    "import pandas as pd\n",
    "import numpy as np\n",
    "import scipy\n",
    "\n",
    "from mpl_toolkits.mplot3d import Axes3D\n",
    "from scipy.special import airy\n",
    "from matplotlib import cm\n",
    "from qutip import *\n",
    "\n",
    "from funcs import *"
   ]
  },
  {
   "cell_type": "code",
   "execution_count": 2,
   "metadata": {},
   "outputs": [
    {
     "name": "stdout",
     "output_type": "stream",
     "text": [
      "Using matplotlib backend: TkAgg\n"
     ]
    }
   ],
   "source": [
    "%matplotlib"
   ]
  },
  {
   "cell_type": "markdown",
   "metadata": {},
   "source": [
    "## Semi-Analytic"
   ]
  },
  {
   "cell_type": "code",
   "execution_count": 3,
   "metadata": {},
   "outputs": [],
   "source": [
    "# gamma = 0.1\n",
    "# sqz = 0.6\n",
    "\n",
    "# wlnana, wignormana, x1bound, p1bound = wlnanalytic(gamma, sqz, 1e-5, xcount=200, ycount=200, maxdepth=800)\n",
    "\n",
    "# xplot = np.linspace(x1bound[0], x1bound[1], num = 200)\n",
    "# pplot = np.linspace(p1bound[0], p1bound[1], num = 200)\n",
    "\n",
    "# plotW = wigcubic(xplot, pplot, gamma, sqz)"
   ]
  },
  {
   "cell_type": "code",
   "execution_count": 4,
   "metadata": {},
   "outputs": [],
   "source": [
    "# fig, ax = my3dplot(xplot, pplot, plotW, title='Plot of the wigner function for the cubic phase state')\n",
    "# fig.show()"
   ]
  },
  {
   "cell_type": "code",
   "execution_count": 5,
   "metadata": {},
   "outputs": [],
   "source": [
    "# print(wlnana, wignormana)"
   ]
  },
  {
   "cell_type": "markdown",
   "metadata": {},
   "source": [
    "# Full-Numerical"
   ]
  },
  {
   "cell_type": "code",
   "execution_count": 6,
   "metadata": {},
   "outputs": [
    {
     "name": "stdout",
     "output_type": "stream",
     "text": [
      "4.196320968941006 1.0000000000001361\n"
     ]
    }
   ],
   "source": [
    "gamma,sqz = 0.5, 0.4\n",
    "\n",
    "N = 150\n",
    "\n",
    "cube, nmean= cubic(gamma, sqz, N)\n",
    "\n",
    "print(nmean, cube.norm())"
   ]
  },
  {
   "cell_type": "code",
   "execution_count": 7,
   "metadata": {},
   "outputs": [
    {
     "name": "stdout",
     "output_type": "stream",
     "text": [
      "38.65426206588745 7.009465932846069\n",
      "0.9197477983750019 0.9999601140897225\n"
     ]
    }
   ],
   "source": [
    "wlnnum, wignormnum, time1, time2, x2bound, p2bound = wln(cube, 1e-5, xcount=200, ycount=200)\n",
    "\n",
    "print(time1, time2)\n",
    "\n",
    "print(wlnnum, wignormnum)"
   ]
  },
  {
   "cell_type": "code",
   "execution_count": 8,
   "metadata": {},
   "outputs": [],
   "source": [
    "fig1, ax1 = myplotwigner(cube, [-5,5], [-5,5])\n",
    "fig1.show()"
   ]
  },
  {
   "cell_type": "code",
   "execution_count": 9,
   "metadata": {},
   "outputs": [
    {
     "data": {
      "text/plain": [
       "[-17.5, 18.0]"
      ]
     },
     "execution_count": 9,
     "metadata": {},
     "output_type": "execute_result"
    }
   ],
   "source": [
    "p2bound"
   ]
  },
  {
   "cell_type": "markdown",
   "metadata": {},
   "source": [
    "# Inner-Cubic"
   ]
  },
  {
   "cell_type": "code",
   "execution_count": 14,
   "metadata": {},
   "outputs": [
    {
     "name": "stdout",
     "output_type": "stream",
     "text": [
      "2.764085744911732 1.0000000000001361\n"
     ]
    }
   ],
   "source": [
    "gamma,sqz = 0.2, 0.2\n",
    "\n",
    "N = 150\n",
    "\n",
    "innercube, nmean= innercubic(gamma, sqz, N)\n",
    "\n",
    "print(nmean, cube.norm())"
   ]
  },
  {
   "cell_type": "code",
   "execution_count": 15,
   "metadata": {},
   "outputs": [
    {
     "name": "stdout",
     "output_type": "stream",
     "text": [
      "36.28812384605408 8.668765306472778\n",
      "1.141393295584175 0.9999754644040665\n"
     ]
    }
   ],
   "source": [
    "wlnnum2, wignormnum2, time12, time22, x3bound, p3bound = wln(innercube, 1e-5, xcount=200, ycount=200)\n",
    "\n",
    "print(time12, time22)\n",
    "\n",
    "print(wlnnum2, wignormnum2)"
   ]
  },
  {
   "cell_type": "code",
   "execution_count": 16,
   "metadata": {},
   "outputs": [],
   "source": [
    "fig2, ax2 = myplotwigner(innercube, [-5,5], [-5,5])\n",
    "fig2.show()"
   ]
  },
  {
   "cell_type": "code",
   "execution_count": 17,
   "metadata": {},
   "outputs": [
    {
     "data": {
      "text/plain": [
       "([-17.0, 17.5], [-17.0, 16.5])"
      ]
     },
     "execution_count": 17,
     "metadata": {},
     "output_type": "execute_result"
    }
   ],
   "source": [
    "x3bound, p3bound"
   ]
  }
 ],
 "metadata": {
  "kernelspec": {
   "display_name": "Python 3",
   "language": "python",
   "name": "python3"
  },
  "language_info": {
   "codemirror_mode": {
    "name": "ipython",
    "version": 3
   },
   "file_extension": ".py",
   "mimetype": "text/x-python",
   "name": "python",
   "nbconvert_exporter": "python",
   "pygments_lexer": "ipython3",
   "version": "3.6.7"
  }
 },
 "nbformat": 4,
 "nbformat_minor": 2
}
