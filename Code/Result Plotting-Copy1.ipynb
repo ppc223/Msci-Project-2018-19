{
 "cells": [
  {
   "cell_type": "code",
   "execution_count": 1,
   "metadata": {},
   "outputs": [],
   "source": [
    "import matplotlib.pyplot as plt\n",
    "import scipy.constants as cons\n",
    "import pandas as pd\n",
    "import numpy as np\n",
    "import scipy\n",
    "import cmath\n",
    "import time\n",
    "import os\n",
    "\n",
    "from mpl_toolkits.mplot3d import Axes3D\n",
    "from matplotlib import cm\n",
    "from qutip import *\n",
    "from funcs import *"
   ]
  },
  {
   "cell_type": "code",
   "execution_count": 2,
   "metadata": {},
   "outputs": [
    {
     "name": "stdout",
     "output_type": "stream",
     "text": [
      "Using matplotlib backend: TkAgg\n"
     ]
    }
   ],
   "source": [
    "%matplotlib"
   ]
  },
  {
   "cell_type": "code",
   "execution_count": 3,
   "metadata": {},
   "outputs": [],
   "source": [
    "# Very Basic Data ploting, not enough data yet, need to do for higher squeezing factors to see saturation and \n",
    "# maybe do finer iteratino over sqf\n",
    "# df = pd.read_csv('cubicanalytic.csv')\n",
    "#df1 = pd.read_csv('cubicnumerical.csv.old3')\n",
    "df1 = pd.concat([pd.read_csv('cubicnumerical.csv.old3'), pd.read_csv('cubicnumerical.csv')])\n",
    "df2 = pd.read_csv('cubicanalytic.csv')"
   ]
  },
  {
   "cell_type": "code",
   "execution_count": 4,
   "metadata": {},
   "outputs": [],
   "source": [
    "df2 = df2[:400]"
   ]
  },
  {
   "cell_type": "code",
   "execution_count": 5,
   "metadata": {},
   "outputs": [],
   "source": [
    "WLNs = np.array(df1.WLN)\n",
    "nmeans = np.array(df1.nmean)"
   ]
  },
  {
   "cell_type": "code",
   "execution_count": 6,
   "metadata": {},
   "outputs": [],
   "source": [
    "rs = np.unique(np.array(df1.r))\n",
    "\n",
    "WLNarr1 = []\n",
    "nmeanarr1 = []\n",
    "for r in rs:\n",
    "#     WLNarr1.append(np.array(df1[df1.r > r-0.01][df1.r < r + 0.01].WLN))\n",
    "    WLNarr1.append(np.array(df1[df1.r == r].WLN))\n",
    "    nmeanarr1.append(np.array(df1[df1.r == r].nmean))"
   ]
  },
  {
   "cell_type": "code",
   "execution_count": 7,
   "metadata": {},
   "outputs": [],
   "source": [
    "rs = np.unique(np.array(df2.r))\n",
    "\n",
    "WLNarr2 = []\n",
    "for r in rs:\n",
    "    WLNarr2.append(np.array(df2[df2.r == r].WLN))"
   ]
  },
  {
   "cell_type": "code",
   "execution_count": 8,
   "metadata": {},
   "outputs": [],
   "source": [
    "WLNarr1 =np.array(WLNarr1)\n",
    "WLNarr2 =np.array(WLNarr2)\n",
    "nmeanarr1 = np.array(nmeanarr1)"
   ]
  },
  {
   "cell_type": "code",
   "execution_count": 9,
   "metadata": {},
   "outputs": [],
   "source": [
    "#WLN = subdf['WLN']\n",
    "# sqf = np.linspace(0.1,0.5, 20)#np.array(subdf['r'])\n",
    "# gamma = np.linspace(0.1,0.5, 20)#np.array(subdf['gamma'])\n",
    "sqf1 = np.array(df1.r)\n",
    "gamma1 = np.array(df1.gamma)\n",
    "\n",
    "# sqf2 = np.unique(np.array(df2.r))\n",
    "# gamma2 = np.unique(np.array(df2.gamma))\n",
    "\n",
    "# x1, y1 = np.meshgrid(sqf1, gamma1)"
   ]
  },
  {
   "cell_type": "code",
   "execution_count": 10,
   "metadata": {},
   "outputs": [],
   "source": [
    "fig1, ax1 = my3dscatter(gamma1, sqf1, WLNs,title='', axeslabels=['gamma', 'r', 'WLN'])\n",
    "\n",
    "fig1.show()\n"
   ]
  },
  {
   "cell_type": "code",
   "execution_count": 11,
   "metadata": {},
   "outputs": [],
   "source": [
    "# fig2, ax2 = my3dplot(gamma2, sqf2, WLNarr2,title='', axeslabels=['gamma', 'r', 'WLN'])\n",
    "\n",
    "# fig2.show()"
   ]
  },
  {
   "cell_type": "code",
   "execution_count": 12,
   "metadata": {},
   "outputs": [
    {
     "data": {
      "text/plain": [
       "0.8947368421052632"
      ]
     },
     "execution_count": 12,
     "metadata": {},
     "output_type": "execute_result"
    }
   ],
   "source": [
    "max(sqf1)"
   ]
  }
 ],
 "metadata": {
  "kernelspec": {
   "display_name": "Python 3",
   "language": "python",
   "name": "python3"
  },
  "language_info": {
   "codemirror_mode": {
    "name": "ipython",
    "version": 3
   },
   "file_extension": ".py",
   "mimetype": "text/x-python",
   "name": "python",
   "nbconvert_exporter": "python",
   "pygments_lexer": "ipython3",
   "version": "3.6.7"
  }
 },
 "nbformat": 4,
 "nbformat_minor": 2
}
