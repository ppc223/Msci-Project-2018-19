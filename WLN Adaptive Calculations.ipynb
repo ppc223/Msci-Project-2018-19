{
 "cells": [
  {
   "cell_type": "code",
   "execution_count": 1,
   "metadata": {},
   "outputs": [],
   "source": [
    "%matplotlib inline\n",
    "import matplotlib.pyplot as plt\n",
    "import numpy as np\n",
    "import scipy.constants as cons\n",
    "import scipy\n",
    "\n",
    "import time\n",
    "\n",
    "import matplotlib as mpl\n",
    "from mpl_toolkits.mplot3d import Axes3D\n",
    "from matplotlib import cm\n",
    "\n",
    "from qutip import *\n",
    "import cmath"
   ]
  },
  {
   "cell_type": "code",
   "execution_count": 2,
   "metadata": {},
   "outputs": [],
   "source": [
    "def wiginput(q, p, psi, method='iterative'):\n",
    "    \"\"\"\n",
    "    Function to pass through 'x' and 'y' coordinates to the qutip Wigner function\n",
    "    in order to use the scipy integrate package to evaluate the Wigner function for \n",
    "    input states\n",
    "    \"\"\"\n",
    "    return float(wigner(psi, q, p, method=method))\n",
    "\n",
    "def wigneginput(q, p, psi, method='iterative'):\n",
    "    \"\"\"\n",
    "    Function to pass through 'x' and 'y' coordinates to the qutip Wigner function\n",
    "    in order to use the scipy integrate package to evaluate the Wigner Logarithmic\n",
    "    Negativity for input states\n",
    "    \"\"\"\n",
    "    return abs(float(wigner(psi, q, p, method=method)))"
   ]
  },
  {
   "cell_type": "markdown",
   "metadata": {},
   "source": [
    "# Photon added/subtracted Gaussian States"
   ]
  },
  {
   "cell_type": "code",
   "execution_count": 3,
   "metadata": {},
   "outputs": [],
   "source": [
    "N=5 # Number of Fock levels used in calculations (dimensions of vectors and matrices)\n",
    "\n",
    "sqf=0.8 # Squeezing Factor\n",
    "dif=1 # Displacement Factor"
   ]
  },
  {
   "cell_type": "code",
   "execution_count": null,
   "metadata": {},
   "outputs": [],
   "source": [
    "vac = basis(N, 0) # Vacuum state\n",
    "coh = coherent(N, dif) # Coherent state\n",
    "fockone = basis(N,1) # First Fock state"
   ]
  },
  {
   "cell_type": "code",
   "execution_count": null,
   "metadata": {},
   "outputs": [],
   "source": [
    "# normalisation factor for the photon added state\n",
    "Nadd = 1 + np.sinh(sqf) ** 2 + np.abs(dif) ** 2 \n",
    "\n",
    "# state vector and density matrix for the photon added state\n",
    "psiadd = (1/np.sqrt(Nadd)) * create(N) * displace(N,dif) * squeeze(N, sqf) * vac\n",
    "rhoadd = ket2dm(psiadd)"
   ]
  },
  {
   "cell_type": "code",
   "execution_count": null,
   "metadata": {},
   "outputs": [],
   "source": [
    "# normalisation factor for the photon subtracted state\n",
    "Nsub = np.sinh(sqf) ** 2 + np.abs(dif) ** 2 \n",
    "\n",
    "# state vector and density matrix for the photon subtracted state\n",
    "psisub = (1/np.sqrt(Nsub)) *  destroy(N) * displace(N,dif) * squeeze(N, sqf) * vac\n",
    "rhosub = ket2dm(psisub)"
   ]
  },
  {
   "cell_type": "code",
   "execution_count": null,
   "metadata": {},
   "outputs": [],
   "source": [
    "# state vector and density matrix for the displaced squeeze state\n",
    "psi =  displace(N,dif) * squeeze(N, sqf) * vac "
   ]
  },
  {
   "cell_type": "code",
   "execution_count": 4,
   "metadata": {},
   "outputs": [
    {
     "name": "stdout",
     "output_type": "stream",
     "text": [
      "0.9999999761288658 time taken =  20.38804841041565\n"
     ]
    }
   ],
   "source": [
    "inputstate = fockone\n",
    "starttime = time.time()\n",
    "w = scipy.integrate.dblquad(wiginput, -np.inf, np.inf, lambda x: -np.inf, lambda x: np.inf, args=([inputstate]), epsabs=1e-3)\n",
    "endtime = time.time()\n",
    "print(w[0], 'time taken = ', endtime - starttime)\n",
    "\n",
    "with open('Adaptive_WLN_Results', 'a') as f:\n",
    "    print('integral of Wigner function for state {} = {}'.format(input('type name of state'),wn[0]), 'time taken = {}'.format(endtime - starttime), file = f)"
   ]
  },
  {
   "cell_type": "code",
   "execution_count": null,
   "metadata": {},
   "outputs": [],
   "source": [
    "inputstate = fockone\n",
    "starttime = time.time()\n",
    "wn = scipy.integrate.dblquad(wigneginput, -np.inf, np.inf, lambda x: -np.inf, lambda x: np.inf, args=([inputstate]), epsabs=1e-3)\n",
    "endtime = time.time()\n",
    "print(wn[0], np.log2(wn[0]), 'time taken = ', endtime - starttime)\n",
    "\n",
    "with open('Adaptive_WLN_Results', 'a') as f:\n",
    "    print('integral of abs(Wigner) for state {} = {}'.format(input('type name of state'),wn[0]), '\\n WLN (base 2) = {}'.format(np.log2(wn[0])), 'time taken = ', endtime - starttime, file = f)"
   ]
  },
  {
   "cell_type": "markdown",
   "metadata": {},
   "source": [
    "# Cat states"
   ]
  },
  {
   "cell_type": "code",
   "execution_count": 6,
   "metadata": {},
   "outputs": [],
   "source": [
    "def catstate(alpha, phi, theta, N):\n",
    "    \"\"\"\n",
    "    Function to generate a cat state using the qutip module\n",
    "    ... ++ variable descriptions\n",
    "    \"\"\"\n",
    "    coh1 = np.cos(phi) * coherent(N, alpha)\n",
    "    coh2 = np.sin(phi) * cmath.rect(1,theta) * coherent(N, -alpha)\n",
    "    K = 1 + np.sin(2 * phi) * np.cos(theta) * np.exp(-2 * alpha * np.conj(alpha))\n",
    "    norm = 1/np.sqrt(K)\n",
    "    return norm * (coh1 + coh2)"
   ]
  },
  {
   "cell_type": "code",
   "execution_count": 8,
   "metadata": {},
   "outputs": [
    {
     "name": "stdout",
     "output_type": "stream",
     "text": [
      "0.24999780154813128 time taken =  133.5095067024231\n"
     ]
    }
   ],
   "source": [
    "alpha = 2\n",
    "phi = np.pi / 4\n",
    "theta = 0\n",
    "N = 20\n",
    "\n",
    "\n",
    "catpsi = catstate(alpha, phi, theta, N)\n",
    "\n",
    "starttime = time.time()\n",
    "wncat = scipy.integrate.dblquad(wiginput, 0, np.inf, lambda x: 0, lambda x: np.inf, args=([catpsi]), epsabs = 1e-4)\n",
    "endtime = time.time()\n",
    "print(wncat[0], 'time taken = ', endtime - starttime)\n",
    "\n",
    "with open('Adaptive_WLN_Results', 'a') as f:\n",
    "    print('integral of Wigner function for cat state {} = {}'.format(input(''),wn[0]), 'time taken = {}'.format(endtime - starttime), file = f)"
   ]
  },
  {
   "cell_type": "code",
   "execution_count": null,
   "metadata": {},
   "outputs": [],
   "source": [
    "norm = 1 / wncat[0]\n",
    "norm "
   ]
  },
  {
   "cell_type": "code",
   "execution_count": null,
   "metadata": {
    "scrolled": false
   },
   "outputs": [],
   "source": [
    "np.log2(wncat[0])"
   ]
  },
  {
   "cell_type": "markdown",
   "metadata": {},
   "source": [
    "# Conclusion\n",
    "Adaptive integration is far too slow for our needs, try some sampled integration methods (another notebook)"
   ]
  }
 ],
 "metadata": {
  "kernelspec": {
   "display_name": "Python 3",
   "language": "python",
   "name": "python3"
  },
  "language_info": {
   "codemirror_mode": {
    "name": "ipython",
    "version": 3
   },
   "file_extension": ".py",
   "mimetype": "text/x-python",
   "name": "python",
   "nbconvert_exporter": "python",
   "pygments_lexer": "ipython3",
   "version": "3.6.7"
  }
 },
 "nbformat": 4,
 "nbformat_minor": 2
}
