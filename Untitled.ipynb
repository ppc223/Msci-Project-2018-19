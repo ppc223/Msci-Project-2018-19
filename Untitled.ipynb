{
 "cells": [
  {
   "cell_type": "code",
   "execution_count": 1,
   "metadata": {},
   "outputs": [],
   "source": [
    "import matplotlib.pyplot as plt\n",
    "import pandas as pd\n",
    "import numpy as np\n",
    "import time\n",
    "import scipy\n",
    "\n",
    "from mpl_toolkits.mplot3d import Axes3D\n",
    "from scipy.special import airy\n",
    "from matplotlib import cm\n",
    "from qutip import *\n",
    "from funcs import *"
   ]
  },
  {
   "cell_type": "code",
   "execution_count": 2,
   "metadata": {},
   "outputs": [
    {
     "name": "stdout",
     "output_type": "stream",
     "text": [
      "Using matplotlib backend: TkAgg\n"
     ]
    }
   ],
   "source": [
    "%matplotlib"
   ]
  },
  {
   "cell_type": "code",
   "execution_count": 3,
   "metadata": {},
   "outputs": [],
   "source": [
    "def wigcubic(gamma, r, X, P):\n",
    "    x,p = np.meshgrid(X,P)\n",
    "    c= np.cbrt(4 / (3 * gamma))\n",
    "    N = np.exp(1 / (54 * (gamma ** 2) * np.exp(6 * r))) / (np.sqrt(np.pi) * np.exp(r)) * np.cbrt(4 / (3 * abs(gamma)))\n",
    "    airyarg = c * (3 * gamma * (x ** 2) - p + 1/(12 * gamma * np.exp(4 * r)))\n",
    "    Wcube = N * np.exp(-p/ (3 * gamma * np.exp(2 * r))) * airy(airyarg)[0]\n",
    "    return Wcube"
   ]
  },
  {
   "cell_type": "code",
   "execution_count": 46,
   "metadata": {},
   "outputs": [],
   "source": [
    "N = 500\n",
    "gamma = 0.05\n",
    "sqz = 0.05\n",
    "\n",
    "x = np.linspace(-4, 4, num = 200)\n",
    "p = np.linspace(-4, 10, num = 200)\n",
    "\n",
    "W = wigcubic(gamma, sqz, x, p)"
   ]
  },
  {
   "cell_type": "code",
   "execution_count": 47,
   "metadata": {},
   "outputs": [],
   "source": [
    "fig,ax = my3dplot(x,p,W)\n",
    "fig.show()"
   ]
  },
  {
   "cell_type": "code",
   "execution_count": 48,
   "metadata": {},
   "outputs": [
    {
     "data": {
      "text/latex": [
       "Quantum object: dims = [[1], [1]], shape = (1, 1), type = bra\\begin{equation*}\\left(\\begin{array}{*{11}c}0.011\\\\\\end{array}\\right)\\end{equation*}"
      ],
      "text/plain": [
       "Quantum object: dims = [[1], [1]], shape = (1, 1), type = bra\n",
       "Qobj data =\n",
       "[[0.01102424]]"
      ]
     },
     "execution_count": 48,
     "metadata": {},
     "output_type": "execute_result"
    }
   ],
   "source": [
    "N = 500 \n",
    "gamma = 0.05\n",
    "sqz = 0.05\n",
    "\n",
    "n = num(N)\n",
    "\n",
    "cube= cubic(gamma, 1j * sqz, N)\n",
    "\n",
    "nmean = cube.dag() * n * cube\n",
    "nmean"
   ]
  },
  {
   "cell_type": "code",
   "execution_count": 49,
   "metadata": {},
   "outputs": [],
   "source": [
    "fig, ax = myplotwigner(cube, [-4,4], [-4,10])\n",
    "fig.show()"
   ]
  },
  {
   "cell_type": "code",
   "execution_count": 20,
   "metadata": {},
   "outputs": [],
   "source": [
    "gamma = 0.5\n",
    "sqz = 0.5\n",
    "\n",
    "x = np.linspace(-20, 20, num = 1000)\n",
    "p = np.linspace(-4, 40, num = 1000)\n",
    "\n",
    "#xvec = np.arange(xrange[0], xrange[1], xstep)\n",
    "#yvec = np.arange(yrange[0], yrange[1], ystep)\n",
    "#W = wigner(psisub, xvec, yvec)\n",
    "W = wigcubic(gamma, sqz, x, p)\n"
   ]
  },
  {
   "cell_type": "code",
   "execution_count": 21,
   "metadata": {},
   "outputs": [],
   "source": [
    "# Calculates the integral over the Wigner function for the ranges specified above, serves as a check to see if \n",
    "# we are approximating the integration accurately enough as should be normalised to 1.\n",
    "wigtemp = simps2d(x, p, W)\n",
    "\n",
    "# Calculates the integral of the absolute value of the Wigner funtion and then takes the log (base 2) to determine\n",
    "# the Wigner Logarithmic Negativity (in base 2) for the function. This serves as a monotone/quantifier for the\n",
    "# quantum non-Gaussianity of the state.\n",
    "WLNtemp = np.log2(simps2d(x, p, abs(W)))"
   ]
  },
  {
   "cell_type": "code",
   "execution_count": 22,
   "metadata": {},
   "outputs": [
    {
     "data": {
      "text/plain": [
       "1.009908975997499"
      ]
     },
     "execution_count": 22,
     "metadata": {},
     "output_type": "execute_result"
    }
   ],
   "source": [
    "WLNtemp"
   ]
  },
  {
   "cell_type": "code",
   "execution_count": 10,
   "metadata": {},
   "outputs": [
    {
     "data": {
      "text/plain": [
       "1.0"
      ]
     },
     "execution_count": 10,
     "metadata": {},
     "output_type": "execute_result"
    }
   ],
   "source": [
    "np.log2(2)"
   ]
  }
 ],
 "metadata": {
  "kernelspec": {
   "display_name": "Python 3",
   "language": "python",
   "name": "python3"
  },
  "language_info": {
   "codemirror_mode": {
    "name": "ipython",
    "version": 3
   },
   "file_extension": ".py",
   "mimetype": "text/x-python",
   "name": "python",
   "nbconvert_exporter": "python",
   "pygments_lexer": "ipython3",
   "version": "3.6.7"
  }
 },
 "nbformat": 4,
 "nbformat_minor": 2
}
