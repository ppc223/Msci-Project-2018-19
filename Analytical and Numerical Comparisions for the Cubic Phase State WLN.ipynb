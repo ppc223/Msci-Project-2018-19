{
 "cells": [
  {
   "cell_type": "code",
   "execution_count": 1,
   "metadata": {},
   "outputs": [],
   "source": [
    "import matplotlib.pyplot as plt\n",
    "import pandas as pd\n",
    "import numpy as np\n",
    "import time\n",
    "import scipy\n",
    "\n",
    "from mpl_toolkits.mplot3d import Axes3D\n",
    "from scipy.special import airy\n",
    "from matplotlib import cm\n",
    "from qutip import *\n",
    "from funcs import *"
   ]
  },
  {
   "cell_type": "code",
   "execution_count": 2,
   "metadata": {},
   "outputs": [
    {
     "name": "stdout",
     "output_type": "stream",
     "text": [
      "Using matplotlib backend: TkAgg\n"
     ]
    }
   ],
   "source": [
    "%matplotlib"
   ]
  },
  {
   "cell_type": "markdown",
   "metadata": {},
   "source": [
    "## Semi-Analytic"
   ]
  },
  {
   "cell_type": "code",
   "execution_count": 3,
   "metadata": {},
   "outputs": [],
   "source": [
    "gamma = 0.1\n",
    "sqz = 0.6\n",
    "\n",
    "x1bound, p1bound = boundfindcube(wigcubic, 1e-7, args = (gamma, sqz), maxdepth=100)\n",
    "\n",
    "xplot = np.linspace(x1bound[0], x1bound[1], num = 200)\n",
    "pplot = np.linspace(p1bound[0], p1bound[1], num = 200)\n",
    "\n",
    "plotW = wigcubic(gamma, sqz, xplot, pplot)"
   ]
  },
  {
   "cell_type": "code",
   "execution_count": 4,
   "metadata": {},
   "outputs": [],
   "source": [
    "# fig, ax = my3dplot(xplot, pplot, plotW, title='Plot of the wigner function for the cubic phase state')\n",
    "# fig.show()"
   ]
  },
  {
   "cell_type": "code",
   "execution_count": 5,
   "metadata": {},
   "outputs": [],
   "source": [
    "x1 = np.linspace(x1bound[0], x1bound[1], num = 1000)\n",
    "p1 = np.linspace(p1bound[0], p1bound[1], num = 1000)\n",
    "\n",
    "#xvec = np.arange(xrange[0], xrange[1], xstep)\n",
    "#yvec = np.arange(yrange[0], yrange[1], ystep)\n",
    "#W = wigner(psisub, xvec, yvec)\n",
    "anaW = wigcubic(gamma, sqz, x1, p1)\n"
   ]
  },
  {
   "cell_type": "code",
   "execution_count": 6,
   "metadata": {},
   "outputs": [],
   "source": [
    "# Calculates the integral over the Wigner function for the ranges specified above, serves as a check to see if \n",
    "# we are approximating the integration accurately enough as should be normalised to 1.\n",
    "wigtempana = simps2d(x1, p1, anaW)\n",
    "\n",
    "# Calculates the integral of the absolute value of the Wigner funtion and then takes the log (base 2) to determine\n",
    "# the Wigner Logarithmic Negativity (in base 2) for the function. This serves as a monotone/quantifier for the\n",
    "# quantum non-Gaussianity of the state.\n",
    "WLNtempana = np.log2(simps2d(x1, p1, abs(anaW)))"
   ]
  },
  {
   "cell_type": "code",
   "execution_count": 7,
   "metadata": {},
   "outputs": [
    {
     "name": "stdout",
     "output_type": "stream",
     "text": [
      "0.9999999831462191 0.3745619260739403\n"
     ]
    }
   ],
   "source": [
    "print(wigtempana, WLNtempana)"
   ]
  },
  {
   "cell_type": "markdown",
   "metadata": {},
   "source": [
    "# Full-Numerical"
   ]
  },
  {
   "cell_type": "code",
   "execution_count": 8,
   "metadata": {},
   "outputs": [
    {
     "name": "stdout",
     "output_type": "stream",
     "text": [
      "[0.77734636+0.j] 1.000000000000004\n"
     ]
    }
   ],
   "source": [
    "N = 100\n",
    "\n",
    "n = num(N)\n",
    "\n",
    "cube= cubic(gamma, sqz, N)\n",
    "\n",
    "nmean = cube.dag() * n * cube\n",
    "print(nmean[0][0], cube.norm())"
   ]
  },
  {
   "cell_type": "code",
   "execution_count": 9,
   "metadata": {},
   "outputs": [
    {
     "name": "stdout",
     "output_type": "stream",
     "text": [
      "7.493155479431152\n"
     ]
    }
   ],
   "source": [
    "time1 = time.time()\n",
    "x2bound, p2bound = boundfindwig(cube, 1e-7, [-4,4], [-4,8], incre = 0.5)\n",
    "time2 = time.time()\n",
    "print(time2 - time1)\n",
    "\n",
    "# fig, ax = myplotwigner(cube, x2bound, p2bound)\n",
    "# fig.show()"
   ]
  },
  {
   "cell_type": "code",
   "execution_count": 10,
   "metadata": {},
   "outputs": [],
   "source": [
    "x2 = np.linspace(x2bound[0], x2bound[-1], num = 400)\n",
    "p2 = np.linspace(p2bound[0], p2bound[-1], num = 400)\n",
    "\n",
    "numW = wigner(cube, x2, p2)"
   ]
  },
  {
   "cell_type": "code",
   "execution_count": 11,
   "metadata": {},
   "outputs": [],
   "source": [
    "wigtempnum = simps2d(x2, p2, numW)\n",
    "\n",
    "WLNtempnum = np.log2(simps2d(x2, p2, abs(numW)))"
   ]
  },
  {
   "cell_type": "code",
   "execution_count": 12,
   "metadata": {},
   "outputs": [
    {
     "name": "stdout",
     "output_type": "stream",
     "text": [
      "0.9999994968442729 0.3765573600445366\n"
     ]
    }
   ],
   "source": [
    "print(wigtempnum, WLNtempnum)"
   ]
  }
 ],
 "metadata": {
  "kernelspec": {
   "display_name": "Python 3",
   "language": "python",
   "name": "python3"
  },
  "language_info": {
   "codemirror_mode": {
    "name": "ipython",
    "version": 3
   },
   "file_extension": ".py",
   "mimetype": "text/x-python",
   "name": "python",
   "nbconvert_exporter": "python",
   "pygments_lexer": "ipython3",
   "version": "3.6.7"
  }
 },
 "nbformat": 4,
 "nbformat_minor": 2
}
